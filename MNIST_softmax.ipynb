{
  "nbformat": 4,
  "nbformat_minor": 0,
  "metadata": {
    "colab": {
      "provenance": []
    },
    "kernelspec": {
      "name": "python3",
      "display_name": "Python 3"
    },
    "language_info": {
      "name": "python"
    }
  },
  "cells": [
    {
      "cell_type": "markdown",
      "source": [
        "# MNIST Classification (softmax regression)\n",
        "\n",
        "In this notebook, I implement softmax regression from scratch on the MNIST Dataset. I add in some extra features like:\n",
        "* Mini-batch training\n",
        "* L2 Regularization\n",
        "\n"
      ],
      "metadata": {
        "id": "mSkzurvXxO6_"
      }
    },
    {
      "cell_type": "code",
      "execution_count": null,
      "metadata": {
        "id": "7St5yqym_L3z"
      },
      "outputs": [],
      "source": [
        "import sys\n",
        "import numpy as np\n",
        "import pandas as pd\n",
        "import matplotlib.pyplot as plt\n",
        "import seaborn as sb\n",
        "%matplotlib inline\n",
        "\n",
        "from scipy.io import loadmat\n",
        "from sklearn.metrics import accuracy_score, confusion_matrix, precision_score, recall_score, f1_score\n",
        "from sklearn.model_selection import train_test_split"
      ]
    },
    {
      "cell_type": "code",
      "source": [
        "from google.colab import drive\n",
        "drive.mount('/content/gdrive')"
      ],
      "metadata": {
        "colab": {
          "base_uri": "https://localhost:8080/"
        },
        "id": "_jsWV0HG_QGf",
        "outputId": "2140f7c0-f6be-4a67-85d8-2c73af3a6d67"
      },
      "execution_count": null,
      "outputs": [
        {
          "output_type": "stream",
          "name": "stdout",
          "text": [
            "Drive already mounted at /content/gdrive; to attempt to forcibly remount, call drive.mount(\"/content/gdrive\", force_remount=True).\n"
          ]
        }
      ]
    },
    {
      "cell_type": "code",
      "source": [
        "mnist = loadmat('/content/gdrive/MyDrive/pyhon/mnist-original.mat')\n",
        "# mnist = loadmat('mnist-original.mat')\n",
        "\n",
        "X = mnist['data'].T # number of examples placed in row, features in column\n",
        "Y = mnist['label'].T\n",
        "Y = Y.astype('int')\n",
        "\n",
        "n = X.shape[1]\n",
        "m = Y.shape[0]"
      ],
      "metadata": {
        "id": "09f1DZpk_Rd2"
      },
      "execution_count": null,
      "outputs": []
    },
    {
      "cell_type": "code",
      "source": [
        "print(X.shape, Y.shape)\n",
        "print(f\"The number of training examples: {m}, feature vector length: {n}\")\n",
        "print(Y)\n",
        "\n",
        "img_size = np.sqrt(n).astype('int')\n",
        "print(f\"The image size is: {img_size} x {img_size}\")"
      ],
      "metadata": {
        "colab": {
          "base_uri": "https://localhost:8080/"
        },
        "id": "P2H68duVyLb5",
        "outputId": "09b49891-73e7-4589-de6b-87f66f898ba4"
      },
      "execution_count": null,
      "outputs": [
        {
          "output_type": "stream",
          "name": "stdout",
          "text": [
            "(70000, 784) (70000, 1)\n",
            "The number of training examples: 70000, feature vector length: 784\n",
            "[[0]\n",
            " [0]\n",
            " [0]\n",
            " ...\n",
            " [9]\n",
            " [9]\n",
            " [9]]\n",
            "The image size is: 28 x 28\n"
          ]
        }
      ]
    },
    {
      "cell_type": "code",
      "source": [
        "print(mnist)\n",
        "print(f\"X: {X.shape}, y: {Y.shape}\")\n",
        "\n",
        "print(f\"Examples: {m}, Feature count: {n}\")\n",
        "\n",
        "\n"
      ],
      "metadata": {
        "colab": {
          "base_uri": "https://localhost:8080/"
        },
        "id": "ThZibl2K_Z2r",
        "outputId": "d6e29e84-11bc-4c38-f2de-5d2e3849be0a"
      },
      "execution_count": null,
      "outputs": [
        {
          "output_type": "stream",
          "name": "stdout",
          "text": [
            "{'__header__': b'MATLAB 5.0 MAT-file Platform: posix, Created on: Sun Mar 30 03:19:02 2014', '__version__': '1.0', '__globals__': [], 'mldata_descr_ordering': array([[array(['label'], dtype='<U5'), array(['data'], dtype='<U4')]],\n",
            "      dtype=object), 'data': array([[0, 0, 0, ..., 0, 0, 0],\n",
            "       [0, 0, 0, ..., 0, 0, 0],\n",
            "       [0, 0, 0, ..., 0, 0, 0],\n",
            "       ...,\n",
            "       [0, 0, 0, ..., 0, 0, 0],\n",
            "       [0, 0, 0, ..., 0, 0, 0],\n",
            "       [0, 0, 0, ..., 0, 0, 0]], dtype=uint8), 'label': array([[0., 0., 0., ..., 9., 9., 9.]])}\n",
            "X: (70000, 784), y: (70000, 1)\n",
            "Examples: 70000, Feature count: 784\n"
          ]
        }
      ]
    },
    {
      "cell_type": "code",
      "source": [
        "img_size = int(np.sqrt(X.shape[1]))\n",
        "print(f\"The size of the image is {img_size} x {img_size}\")"
      ],
      "metadata": {
        "colab": {
          "base_uri": "https://localhost:8080/"
        },
        "id": "zVneFj3E_ckU",
        "outputId": "c69c50e2-3aa1-4399-c147-e912be068979"
      },
      "execution_count": null,
      "outputs": [
        {
          "output_type": "stream",
          "name": "stdout",
          "text": [
            "The size of the image is 28 x 28\n"
          ]
        }
      ]
    },
    {
      "cell_type": "code",
      "source": [
        "# Converting Y into one hot encoded labels\n",
        "\n",
        "def oneHot(Y):\n",
        "    m = Y.shape[0]\n",
        "    classes = np.max(Y) + 1 # find max value of Y, number of classes should be max + 1, assuming zero indexing\n",
        "    Yhot = np.zeros((m, classes))\n",
        "    for i in range(m):\n",
        "        Yhot[i, Y[i,:]] = 1\n",
        "\n",
        "    return Yhot\n"
      ],
      "metadata": {
        "id": "XjVGJMGrySUx"
      },
      "execution_count": null,
      "outputs": []
    },
    {
      "cell_type": "code",
      "source": [
        "Yhot = oneHot(Y)\n",
        "\n",
        "print(Yhot.shape)"
      ],
      "metadata": {
        "colab": {
          "base_uri": "https://localhost:8080/"
        },
        "id": "fKPEB2UPyVKB",
        "outputId": "927f2492-2a55-4981-b6cc-478f7ada29d7"
      },
      "execution_count": null,
      "outputs": [
        {
          "output_type": "stream",
          "name": "stdout",
          "text": [
            "(70000, 10)\n"
          ]
        }
      ]
    },
    {
      "cell_type": "code",
      "source": [
        "def img_gen(X, Y):\n",
        "    m = X.shape[0]\n",
        "    n = X.shape[1]\n",
        "\n",
        "    img_size = np.sqrt(n).astype('int')\n",
        "    arb = np.random.randint(0, m)\n",
        "    img = X[arb].reshape(img_size, img_size)\n",
        "\n",
        "    Yhot = oneHot(Y)\n",
        "\n",
        "    print(f\"The image below is the {arb}th image in the dataset, labeled {Y[arb]}, with one hot encoding {Yhot[arb,:]}\")\n",
        "    plt.imshow(img)"
      ],
      "metadata": {
        "id": "Qh9DDWs6_eUd"
      },
      "execution_count": null,
      "outputs": []
    },
    {
      "cell_type": "code",
      "source": [
        "img_gen(X, Y)"
      ],
      "metadata": {
        "colab": {
          "base_uri": "https://localhost:8080/",
          "height": 447
        },
        "id": "FOHMXi8x_fbA",
        "outputId": "db2019cc-48ad-4cab-d7f2-d646a180abca"
      },
      "execution_count": null,
      "outputs": [
        {
          "output_type": "stream",
          "name": "stdout",
          "text": [
            "The image below is the 11438th image in the dataset, labeled [1], with one hot encoding [0. 1. 0. 0. 0. 0. 0. 0. 0. 0.]\n"
          ]
        },
        {
          "output_type": "display_data",
          "data": {
            "text/plain": [
              "<Figure size 640x480 with 1 Axes>"
            ],
            "image/png": "[encoded data removed]"
          },
          "metadata": {}
        }
      ]
    },
    {
      "cell_type": "code",
      "source": [
        "# creating a normalization function\n",
        "\n",
        "def normalize(data):\n",
        "    # normalizing along rows because each column may have all zeros, i.e, black pixels in the edges of every image.\n",
        "    mean = np.mean(data, axis=1, keepdims=True)\n",
        "    std = np.std(data, axis=1, keepdims=True)\n",
        "    data_normalized = (data - mean)/std\n",
        "\n",
        "    # norms = np.linalg.norm(data_normalized, axis = 1)\n",
        "    # max_norm = norms.max()\n",
        "    # data_normalized = data_normalized / max_norm\n",
        "    return data_normalized"
      ],
      "metadata": {
        "id": "lvf-ppkD_gZu"
      },
      "execution_count": null,
      "outputs": []
    },
    {
      "cell_type": "code",
      "source": [
        "X_norm = normalize(X)\n",
        "\n",
        "print(np.linalg.norm(X_norm, axis = 1).max()) # sanity check"
      ],
      "metadata": {
        "colab": {
          "base_uri": "https://localhost:8080/"
        },
        "id": "N71QV0nI_h0z",
        "outputId": "38e069a6-7132-48bc-fcae-5dbdce3325a1"
      },
      "execution_count": null,
      "outputs": [
        {
          "output_type": "stream",
          "name": "stdout",
          "text": [
            "28.00000000000001\n"
          ]
        }
      ]
    },
    {
      "cell_type": "code",
      "source": [
        "# Split to train and test\n",
        "\n",
        "X_train, X_test, Y_train, Y_test = train_test_split(X_norm, Y, test_size=0.20, random_state=42)\n",
        "Y_train = Y_train.reshape(-1,1)\n",
        "Y_test = Y_test.reshape(-1,1)\n",
        "print(\"The shape of the training set feature matrix is:\", X_train.shape)\n",
        "print(\"The shape of the training label vector is:\", Y_train.shape)\n",
        "print(\"The shape of the test set feature matrix is:\", X_test.shape)\n",
        "print(\"The shape of the test label vector is:\", Y_test.shape)\n",
        "\n",
        "print(np.sum((Y_train==0).astype(int)))\n",
        "print(np.sum((Y_test==0).astype(int)))"
      ],
      "metadata": {
        "colab": {
          "base_uri": "https://localhost:8080/"
        },
        "id": "VGXumRNF_lkh",
        "outputId": "1ba27df5-c64a-4425-e273-bed2bdd1a07d"
      },
      "execution_count": null,
      "outputs": [
        {
          "output_type": "stream",
          "name": "stdout",
          "text": [
            "The shape of the training set feature matrix is: (56000, 784)\n",
            "The shape of the training label vector is: (56000, 1)\n",
            "The shape of the test set feature matrix is: (14000, 784)\n",
            "The shape of the test label vector is: (14000, 1)\n",
            "5554\n",
            "1349\n"
          ]
        }
      ]
    },
    {
      "cell_type": "code",
      "source": [
        "img_gen(X_train,Y_train)"
      ],
      "metadata": {
        "colab": {
          "base_uri": "https://localhost:8080/",
          "height": 447
        },
        "id": "Z0H5vq0NzyR5",
        "outputId": "a80a51fa-9f99-4099-d01d-0a5f85dae725"
      },
      "execution_count": null,
      "outputs": [
        {
          "output_type": "stream",
          "name": "stdout",
          "text": [
            "The image below is the 28631th image in the dataset, labeled [1], with one hot encoding [0. 1. 0. 0. 0. 0. 0. 0. 0. 0.]\n"
          ]
        },
        {
          "output_type": "display_data",
          "data": {
            "text/plain": [
              "<Figure size 640x480 with 1 Axes>"
            ],
            "image/png": "[encoded data removed]"
          },
          "metadata": {}
        }
      ]
    },
    {
      "cell_type": "code",
      "source": [
        "img_gen(X_test,Y_test)\n"
      ],
      "metadata": {
        "colab": {
          "base_uri": "https://localhost:8080/",
          "height": 447
        },
        "id": "C5JD05_yAVvO",
        "outputId": "8e147fed-3f0a-4110-df2f-ec19f02c0eeb"
      },
      "execution_count": null,
      "outputs": [
        {
          "output_type": "stream",
          "name": "stdout",
          "text": [
            "The image below is the 3809th image in the dataset, labeled [1], with one hot encoding [0. 1. 0. 0. 0. 0. 0. 0. 0. 0.]\n"
          ]
        },
        {
          "output_type": "display_data",
          "data": {
            "text/plain": [
              "<Figure size 640x480 with 1 Axes>"
            ],
            "image/png": "[encoded data removed]"
          },
          "metadata": {}
        }
      ]
    },
    {
      "cell_type": "code",
      "source": [
        "# Concatenating X with a column of ones\n",
        "def concatenator(X):\n",
        "    m = X.shape[0]\n",
        "    arb = np.hstack((np.ones([m,1]),X))\n",
        "    print(f\"The data now has a column of ones in front. It went from dimensions {X.shape} to {arb.shape}\")\n",
        "    return arb"
      ],
      "metadata": {
        "id": "RhzTgLLhBdeV"
      },
      "execution_count": null,
      "outputs": []
    },
    {
      "cell_type": "code",
      "source": [
        "X_train_n = concatenator(X_train)\n",
        "X_test_n = concatenator(X_test)\n",
        "\n",
        "print(X_train_n.shape)\n",
        "print(X_test_n.shape)\n"
      ],
      "metadata": {
        "colab": {
          "base_uri": "https://localhost:8080/"
        },
        "id": "ILnSz1LKB2Cn",
        "outputId": "660bc30b-0977-42f4-d2dc-94f72c60d6a5"
      },
      "execution_count": null,
      "outputs": [
        {
          "output_type": "stream",
          "name": "stdout",
          "text": [
            "The data now has a column of ones in front. It went from dimensions (56000, 784) to (56000, 785)\n",
            "The data now has a column of ones in front. It went from dimensions (14000, 784) to (14000, 785)\n",
            "(56000, 785)\n",
            "(14000, 785)\n"
          ]
        }
      ]
    },
    {
      "cell_type": "code",
      "source": [
        "a = np.random.randn(6,4)\n",
        "\n",
        "b = np.sum(a, axis = 0, keepdims = True)\n",
        "\n",
        "print(a.shape, b.shape)\n",
        "\n",
        "c = a / b\n",
        "\n",
        "print(c.shape)\n",
        "\n",
        "print(a, b, c)"
      ],
      "metadata": {
        "colab": {
          "base_uri": "https://localhost:8080/"
        },
        "id": "JgNqNeNv1MWB",
        "outputId": "215a39ec-be64-4e18-b1c6-709a12d3fa1c"
      },
      "execution_count": null,
      "outputs": [
        {
          "output_type": "stream",
          "name": "stdout",
          "text": [
            "(6, 4) (1, 4)\n",
            "(6, 4)\n",
            "[[-1.09560242  1.37377977  0.91326885 -1.24439298]\n",
            " [ 0.28470539  1.00705691  0.13487349  0.91600892]\n",
            " [-0.33042534 -0.79868089  0.69034457 -0.83692774]\n",
            " [-0.25309046 -1.68331733  0.05513546  0.41550865]\n",
            " [ 0.58950379  0.02821826  2.26508184 -1.1974816 ]\n",
            " [ 0.02688535 -1.29027041  0.8496314  -0.85122167]] [[-0.77802369 -1.36321368  4.9083356  -2.79850642]] [[ 1.40818646 -1.00775087  0.18606487  0.44466326]\n",
            " [-0.36593409 -0.73873738  0.02747846 -0.32732064]\n",
            " [ 0.4246983   0.58588092  0.14064738  0.29906229]\n",
            " [ 0.32529918  1.23481546  0.01123303 -0.14847515]\n",
            " [-0.75769388 -0.02069981  0.46147656  0.42790025]\n",
            " [-0.03455595  0.94649168  0.1730997   0.30416999]]\n"
          ]
        }
      ]
    },
    {
      "cell_type": "code",
      "source": [
        "# Gradient initializer\n",
        "def initializer(n):\n",
        "    theta = np.random.randn(n[0],n[1]) * 0.01\n",
        "    return theta\n",
        "\n",
        "def softmax(z):\n",
        "    arb = np.exp(z)\n",
        "    return arb / np.sum(arb, axis = 1, keepdims = True)\n",
        "\n",
        "\n",
        "# Implementation of hypothesis\n",
        "def hypothesis(X, theta):\n",
        "    z = np.matmul(X, theta)\n",
        "    return softmax(z)\n",
        "\n",
        "# Implementation of cost function\n",
        "def cost(X, y, theta, lam):\n",
        "    m = X.shape[0]\n",
        "    h = hypothesis(X, theta)\n",
        "    J = -(np.sum(y*np.log(h)) / m + (lam / (2*m)) * np.sum(theta**2))\n",
        "    J = J.item()\n",
        "    return J\n",
        "\n",
        "# Gradient Calculations\n",
        "def grad(X, y, theta, lam):\n",
        "    m = X.shape[0]\n",
        "    n = X.shape[1]\n",
        "    h = hypothesis(X, theta)\n",
        "    dtheta = np.matmul(X.T, (h-y)) / m + (lam / m) * theta\n",
        "\n",
        "    return dtheta"
      ],
      "metadata": {
        "id": "vka2lenrB3ih"
      },
      "execution_count": null,
      "outputs": []
    },
    {
      "cell_type": "code",
      "source": [
        "# Create prediction function\n",
        "\n",
        "def predict(X, theta):\n",
        "    Yhat_prob = hypothesis(X, theta)\n",
        "    Yhat = np.argmax(Yhat_prob, axis = 1, keepdims = True)\n",
        "    return Yhat, Yhat_prob\n",
        "\n",
        "# Create prediction function, this is for passing image without concatenating 1 to it. Made it just in case\n",
        "\n",
        "def predictor(X, theta):\n",
        "    Yhat_prob = sig(theta[0] + np.dot(X, theta[1:]))\n",
        "    Yhat = np.round(Yhat_prob).astype(int)\n",
        "    return Yhat, Yhat_prob"
      ],
      "metadata": {
        "id": "4dV2NB1XCED7"
      },
      "execution_count": null,
      "outputs": []
    },
    {
      "cell_type": "code",
      "source": [
        "# Creating the gradient descent optimizer function\n",
        "\n",
        "def gradient_descent(X, Y, X_test, Y_test, theta, alpha, epoch, batch_size, lam):\n",
        "\n",
        "    i=0\n",
        "    m = X.shape[0]\n",
        "    # batch size when given equal to -1, will do batch gradient descent instead of mini batch\n",
        "    if batch_size == -1:\n",
        "        batch_size = m\n",
        "\n",
        "    blocks = np.ceil(m / batch_size).astype('int')\n",
        "\n",
        "    cost_history=[]\n",
        "    test_acc_history = []\n",
        "    train_acc_history = []\n",
        "\n",
        "    Yhot = oneHot(Y) # one hot encoding the training labels\n",
        "\n",
        "    J = cost(X, Yhot, theta, lam)\n",
        "\n",
        "    cost_history.append(J)\n",
        "\n",
        "    Yhat, _ = predict(X, theta)\n",
        "    train_accuracy = accuracy_score(Y, Yhat)\n",
        "    train_acc_history.append(train_accuracy)\n",
        "\n",
        "    Yhat, _ = predict(X_test, theta)\n",
        "    test_accuracy = accuracy_score(Y_test, Yhat)\n",
        "    test_acc_history.append(test_accuracy)\n",
        "\n",
        "    for i in range(epoch):\n",
        "        if i % 10 == 0:\n",
        "            print(f\"iteration number {i} / {epoch}, Cost: {J}, Train Acc: {train_accuracy * 100}, Test Acc: {test_accuracy * 100}\")\n",
        "        for k in range(blocks):\n",
        "            # print(f\"Block count: {k*batch_size} / {m}\")\n",
        "\n",
        "            if (k+1) == blocks:\n",
        "                X_curr = X[(k*batch_size):,:]\n",
        "                Y_curr = Yhot[(k*batch_size):,:]\n",
        "            else:\n",
        "                X_curr = X[(k*batch_size):((k+1)*batch_size),:]\n",
        "                Y_curr = Yhot[(k*batch_size):((k+1)*batch_size),:]\n",
        "\n",
        "            J = cost(X_curr, Y_curr, theta, lam)\n",
        "            dtheta = grad(X_curr, Y_curr, theta, lam)\n",
        "            theta = theta - alpha * dtheta\n",
        "\n",
        "            cost_history.append(J)\n",
        "\n",
        "            Yhat, _ = predict(X, theta)\n",
        "            train_accuracy = accuracy_score(Y, Yhat)\n",
        "            train_acc_history.append(train_accuracy)\n",
        "\n",
        "            Yhat, _ = predict(X_test, theta)\n",
        "            test_accuracy = accuracy_score(Y_test, Yhat)\n",
        "            test_acc_history.append(test_accuracy)\n",
        "\n",
        "\n",
        "    return cost_history, train_acc_history, test_acc_history, theta, i"
      ],
      "metadata": {
        "id": "YdlJlBMHCH-s"
      },
      "execution_count": null,
      "outputs": []
    },
    {
      "cell_type": "code",
      "source": [
        "a = np.array([[1,2,3],[4,5,6]])\n",
        "print(np.max(a))"
      ],
      "metadata": {
        "colab": {
          "base_uri": "https://localhost:8080/"
        },
        "id": "sBkcJXfTHINN",
        "outputId": "bb317b99-4d30-461d-fccc-a41873999613"
      },
      "execution_count": null,
      "outputs": [
        {
          "output_type": "stream",
          "name": "stdout",
          "text": [
            "6\n"
          ]
        }
      ]
    },
    {
      "cell_type": "code",
      "source": [
        "def LogRegModel(X_train, Y_train, X_test, Y_test, alpha, epoch, batch_size, lam):\n",
        "\n",
        "    n = X_train.shape[1] # number of features\n",
        "    c = np.max(Y_train)+1 # number of classes\n",
        "    theta = initializer([n, c])\n",
        "    cost_history, train_acc_history, test_acc_history, theta, i = gradient_descent(X_train, Y_train, X_test, Y_test, theta, alpha, epoch, batch_size, lam)\n",
        "    Yhat_train, _ = predict(X_train, theta)\n",
        "    Yhat, _ = predict(X_test, theta)\n",
        "\n",
        "    train_acc = accuracy_score(Y_train, Yhat_train)\n",
        "    test_acc = accuracy_score(Y_test, Yhat)\n",
        "    conf_matrix = confusion_matrix(Y_test, Yhat, normalize = None)\n",
        "\n",
        "    model = {'weights': theta,\n",
        "            'train_accuracy': train_acc,\n",
        "            'test_accuracy': test_acc,\n",
        "            'confusion_matrix': conf_matrix,\n",
        "            'cost_history': cost_history,\n",
        "             'train_history': train_acc_history,\n",
        "             'test_history': test_acc_history}\n",
        "    return model"
      ],
      "metadata": {
        "id": "ViGGEuNZCLg5"
      },
      "execution_count": null,
      "outputs": []
    },
    {
      "cell_type": "code",
      "source": [
        "# Testing the model function by training a classifier\n",
        "\n",
        "l = 1\n",
        "alpha = 0.1\n",
        "epoch = 100\n",
        "batch_size = -1\n",
        "classes = np.max(Y_train)+1\n",
        "\n",
        "\n",
        "model = LogRegModel(X_train_n, Y_train, X_test_n, Y_test, alpha, epoch, batch_size, l)\n",
        "print('Training completed!')\n",
        "\n",
        "print(f\"The softmax classification model has the following properties:\")\n",
        "print(model['confusion_matrix'])\n",
        "print(f\"Train accuracy: {model['train_accuracy'] * 100} %, Test accuracy: {model['test_accuracy'] * 100} %\")\n",
        "\n",
        "plt.figure()\n",
        "cost_values = model['cost_history']\n",
        "plt.plot(list(range(len(cost_values))),cost_values)\n",
        "plt.title('Evolution of the cost by iteration')\n",
        "plt.xlabel('Iteration')\n",
        "plt.ylabel('Cost');\n",
        "plt.show()\n",
        "\n",
        "\n",
        "# Viewing the cost evolution over time of the trained model\n",
        "\n"
      ],
      "metadata": {
        "colab": {
          "base_uri": "https://localhost:8080/",
          "height": 871
        },
        "id": "e_zjyYC3CWi-",
        "outputId": "7dd2c3ad-9bb9-44d5-8e57-c4d3834ab987"
      },
      "execution_count": null,
      "outputs": [
        {
          "output_type": "stream",
          "name": "stdout",
          "text": [
            "iteration number 0 / 100, Cost: 2.3316140340064955, Train Acc: 10.841071428571428, Test Acc: 10.678571428571429\n",
            "iteration number 10 / 100, Cost: 0.670491289448545, Train Acc: 79.29642857142856, Test Acc: 79.96428571428571\n",
            "iteration number 20 / 100, Cost: 0.4701671562250981, Train Acc: 87.78214285714286, Test Acc: 88.28571428571429\n",
            "iteration number 30 / 100, Cost: 0.42351300153703497, Train Acc: 88.71071428571429, Test Acc: 89.08571428571429\n",
            "iteration number 40 / 100, Cost: 0.3984008883780099, Train Acc: 89.22857142857143, Test Acc: 89.52142857142857\n",
            "iteration number 50 / 100, Cost: 0.381425825692837, Train Acc: 89.58035714285715, Test Acc: 89.85714285714286\n",
            "iteration number 60 / 100, Cost: 0.3689544893706784, Train Acc: 89.875, Test Acc: 90.10714285714285\n",
            "iteration number 70 / 100, Cost: 0.35928346442439396, Train Acc: 90.06964285714287, Test Acc: 90.32857142857142\n",
            "iteration number 80 / 100, Cost: 0.3514940158426791, Train Acc: 90.24285714285715, Test Acc: 90.45\n",
            "iteration number 90 / 100, Cost: 0.345041214807649, Train Acc: 90.39642857142857, Test Acc: 90.53571428571429\n",
            "Training completed!\n",
            "The softmax classification model has the following properties:\n",
            "[[1289    0    8    4    4    8   10    0   21    5]\n",
            " [   1 1534    9   10    1    9    1    3   11    2]\n",
            " [  14   17 1233   17   22    4   15   26   42   10]\n",
            " [   6    1   33 1266    1   60    8   15   30   14]\n",
            " [   2    3    8    1 1229    0    9    3   12   61]\n",
            " [  20    9   12   53   14 1075   30    3   53   17]\n",
            " [  12    1   18    1   13   18 1335    1    8    0]\n",
            " [   9   11   25    9   13    0    2 1341    5   61]\n",
            " [   6   33   18   37    6   41   10    7 1214   19]\n",
            " [  13    4    5   29   47   11    0   52   19 1168]]\n",
            "Train accuracy: 90.55 %, Test accuracy: 90.60000000000001 %\n"
          ]
        },
        {
          "output_type": "display_data",
          "data": {
            "text/plain": [
              "<Figure size 640x480 with 1 Axes>"
            ],
            "image/png": "[encoded data removed]"
          },
          "metadata": {}
        }
      ]
    },
    {
      "cell_type": "code",
      "source": [
        "# Calculatin the average accuracy of all the models\n",
        "\n",
        "accuracy_list=[]\n",
        "for i in range(tot_cls):\n",
        "    accuracy_list.append(models['digit '+str(i)]['test_accuracy'])\n",
        "ove_vs_all_accuracy=np.mean(accuracy_list)\n",
        "print('The accuracy of the Onve-Vs-All model is:', ove_vs_all_accuracy * 100)\n"
      ],
      "metadata": {
        "colab": {
          "base_uri": "https://localhost:8080/"
        },
        "id": "xCGtpTfrFD9l",
        "outputId": "faf55515-dfad-4d30-fedf-9f2e7ef0a38f"
      },
      "execution_count": null,
      "outputs": [
        {
          "output_type": "stream",
          "name": "stdout",
          "text": [
            "The accuracy of the Onve-Vs-All model is: 97.05428571428574\n"
          ]
        }
      ]
    },
    {
      "cell_type": "code",
      "source": [
        "def multiPredict(data, models):\n",
        "    cls = len(models)\n",
        "    example_count = data.shape[0]\n",
        "    Yhat = np.zeros((example_count, cls))\n",
        "    for i in range(cls):\n",
        "        W = models['digit '+str(i)]['weights']\n",
        "        _, arb = predict(data, W)\n",
        "\n",
        "        Yhat[:,i] = arb.reshape(-1)\n",
        "\n",
        "    Yhat_final = np.argmax(Yhat, axis = 1, keepdims = True)\n",
        "\n",
        "    return Yhat_final"
      ],
      "metadata": {
        "id": "-1zn-66hH3rD"
      },
      "execution_count": null,
      "outputs": []
    },
    {
      "cell_type": "code",
      "source": [
        "Yhat_fin = multiPredict(X_test_n, models)"
      ],
      "metadata": {
        "id": "IC138pdLVImv"
      },
      "execution_count": null,
      "outputs": []
    },
    {
      "cell_type": "code",
      "source": [
        "print(confusion_matrix(Y_test, Yhat_fin, normalize = None))"
      ],
      "metadata": {
        "colab": {
          "base_uri": "https://localhost:8080/"
        },
        "id": "vlqlRUn4VPE2",
        "outputId": "62ef3041-5436-4f6c-b8e4-769241e08fbb"
      },
      "execution_count": null,
      "outputs": [
        {
          "output_type": "stream",
          "name": "stdout",
          "text": [
            "[[1293    0    1    5    4    2   17    2   22    3]\n",
            " [   1 1530    8    9    1    7    3    2   19    1]\n",
            " [  18   21 1192   18   27    2   26   29   54   13]\n",
            " [   8    5   43 1262    1   36   12   15   34   18]\n",
            " [   3    4    5    2 1207    1   12    6   22   66]\n",
            " [  29   11   10   88   17  980   38    4   77   32]\n",
            " [  16    3   19    1    8   16 1334    1    9    0]\n",
            " [  12   13   28    7   21    1    1 1332    7   54]\n",
            " [  12   48   17   52    9   48   11    8 1156   30]\n",
            " [  16    6    9   38   64   12    0   61   17 1125]]\n"
          ]
        }
      ]
    },
    {
      "cell_type": "code",
      "source": [
        "print(np.sum(confusion_matrix(Y_test, Yhat_fin, normalize = None)))"
      ],
      "metadata": {
        "colab": {
          "base_uri": "https://localhost:8080/"
        },
        "id": "SCX-w63wVs_u",
        "outputId": "f6b85ecf-be3a-4184-8bf4-f5be457b8d93"
      },
      "execution_count": null,
      "outputs": [
        {
          "output_type": "stream",
          "name": "stdout",
          "text": [
            "14000\n"
          ]
        }
      ]
    },
    {
      "cell_type": "code",
      "source": [
        "print(accuracy_score(Y_test, Yhat_fin))"
      ],
      "metadata": {
        "colab": {
          "base_uri": "https://localhost:8080/"
        },
        "id": "tHeuUmjiWeSg",
        "outputId": "d34b2ee4-1da3-4736-8d94-13d4965809d1"
      },
      "execution_count": null,
      "outputs": [
        {
          "output_type": "stream",
          "name": "stdout",
          "text": [
            "0.8865\n"
          ]
        }
      ]
    },
    {
      "cell_type": "code",
      "source": [
        "# Creating a one-vs-all function that uses all the trained models to predict the label of a random image\n",
        "\n",
        "def one_vs_all(data, models_list):\n",
        "    pred_matrix = np.zeros((data.shape[0],10))\n",
        "    for i in range(len(models_list)):\n",
        "        W = models['digit '+str(i)]['weights']\n",
        "        Yhat, Yhat_prob = predict(data,W)\n",
        "        pred_matrix[:,i] = Yhat_prob.T\n",
        "    max_prob_vec = np.amax(pred_matrix, axis=1, keepdims=True)\n",
        "    print(max_prob_vec)\n",
        "    pred_matrix_max_prob = (pred_matrix == max_prob_vec).astype(int)\n",
        "    labels=[]\n",
        "    for j in range(pred_matrix_max_prob.shape[0]):\n",
        "        idx = np.where(pred_matrix_max_prob[j,:]==1)\n",
        "        labels.append(idx)\n",
        "    labels = np.vstack(labels).flatten()\n",
        "    return labels"
      ],
      "metadata": {
        "id": "jMtUfWFZdrKa"
      },
      "execution_count": null,
      "outputs": []
    },
    {
      "cell_type": "code",
      "source": [
        "pred_label = one_vs_all(X_test_n, models)\n",
        "conf_matrix = confusion_matrix(Y_test, pred_label)"
      ],
      "metadata": {
        "id": "KYvTPcSikyL6",
        "colab": {
          "base_uri": "https://localhost:8080/"
        },
        "outputId": "4775039d-fe1a-4012-c2af-53eba2b25535"
      },
      "execution_count": null,
      "outputs": [
        {
          "output_type": "stream",
          "name": "stdout",
          "text": [
            "[[0.89820473]\n",
            " [0.96322409]\n",
            " [0.46263231]\n",
            " ...\n",
            " [0.95619159]\n",
            " [0.82150392]\n",
            " [0.84740728]]\n"
          ]
        }
      ]
    },
    {
      "cell_type": "code",
      "source": [
        "print(conf_matrix)"
      ],
      "metadata": {
        "colab": {
          "base_uri": "https://localhost:8080/"
        },
        "id": "BuHQVPVPlVMs",
        "outputId": "dce3f9af-e715-44b3-ecdb-806595c05d83"
      },
      "execution_count": null,
      "outputs": [
        {
          "output_type": "stream",
          "name": "stdout",
          "text": [
            "[[1293    0    1    5    4    2   17    2   22    3]\n",
            " [   1 1530    8    9    1    7    3    2   19    1]\n",
            " [  18   21 1192   18   27    2   26   29   54   13]\n",
            " [   8    5   43 1262    1   36   12   15   34   18]\n",
            " [   3    4    5    2 1207    1   12    6   22   66]\n",
            " [  29   11   10   88   17  980   38    4   77   32]\n",
            " [  16    3   19    1    8   16 1334    1    9    0]\n",
            " [  12   13   28    7   21    1    1 1332    7   54]\n",
            " [  12   48   17   52    9   48   11    8 1156   30]\n",
            " [  16    6    9   38   64   12    0   61   17 1125]]\n"
          ]
        }
      ]
    },
    {
      "cell_type": "code",
      "source": [
        "# Doing the same thing but with a smaller version of MNIST\n",
        "\n",
        "data = loadmat('/content/gdrive/MyDrive/pyhon/ex3data1.mat')\n",
        "\n",
        "print(data)\n",
        "\n",
        "X = data['X']\n",
        "\n",
        "Y = data['y']\n",
        "\n",
        "arb = np.where(Y == 10)[0]\n",
        "\n",
        "Y[arb] = 0\n",
        "\n",
        "print(X.shape, Y.shape)\n",
        "\n",
        "n = X.shape[1]\n",
        "m = Y.shape[0]\n",
        "\n",
        "print(f\"X: {X.shape}, y: {Y.shape}\")\n",
        "\n",
        "print(f\"Examples: {m}, Feature count: {n}\")\n",
        "\n",
        "\n"
      ],
      "metadata": {
        "id": "_kDY6mYllhmS",
        "colab": {
          "base_uri": "https://localhost:8080/"
        },
        "outputId": "7ae4b763-b33f-44a7-d91b-22cea974f581"
      },
      "execution_count": null,
      "outputs": [
        {
          "output_type": "stream",
          "name": "stdout",
          "text": [
            "{'__header__': b'MATLAB 5.0 MAT-file, Platform: GLNXA64, Created on: Sun Oct 16 13:09:09 2011', '__version__': '1.0', '__globals__': [], 'X': array([[0., 0., 0., ..., 0., 0., 0.],\n",
            "       [0., 0., 0., ..., 0., 0., 0.],\n",
            "       [0., 0., 0., ..., 0., 0., 0.],\n",
            "       ...,\n",
            "       [0., 0., 0., ..., 0., 0., 0.],\n",
            "       [0., 0., 0., ..., 0., 0., 0.],\n",
            "       [0., 0., 0., ..., 0., 0., 0.]]), 'y': array([[10],\n",
            "       [10],\n",
            "       [10],\n",
            "       ...,\n",
            "       [ 9],\n",
            "       [ 9],\n",
            "       [ 9]], dtype=uint8)}\n",
            "(5000, 400) (5000, 1)\n",
            "X: (5000, 400), y: (5000, 1)\n",
            "Examples: 5000, Feature count: 400\n"
          ]
        }
      ]
    },
    {
      "cell_type": "code",
      "source": [
        "img_size = int(np.sqrt(X.shape[1]))\n",
        "print(f\"The size of the image is {img_size} x {img_size}\")"
      ],
      "metadata": {
        "colab": {
          "base_uri": "https://localhost:8080/"
        },
        "id": "2LR7mPUBi7l0",
        "outputId": "109b6b3b-320b-4810-bd5e-fa4d4d1e4fd4"
      },
      "execution_count": null,
      "outputs": [
        {
          "output_type": "stream",
          "name": "stdout",
          "text": [
            "The size of the image is 20 x 20\n"
          ]
        }
      ]
    },
    {
      "cell_type": "code",
      "source": [
        "# Visualize a random MNIST image\n",
        "\n",
        "def mnist_random(m):\n",
        "    idx = np.random.randint(m)\n",
        "    exp = np.reshape(X[idx], (img_size,img_size)).T\n",
        "    print(f\"The number in the image below is: {Y[idx]}\")\n",
        "    plt.imshow(exp)"
      ],
      "metadata": {
        "id": "swNGe8d9jmDy"
      },
      "execution_count": null,
      "outputs": []
    },
    {
      "cell_type": "code",
      "source": [
        "mnist_random(m)"
      ],
      "metadata": {
        "colab": {
          "base_uri": "https://localhost:8080/",
          "height": 447
        },
        "id": "BSA5zFIQjoXX",
        "outputId": "59799978-714b-441f-9d94-d48a26a8c621"
      },
      "execution_count": null,
      "outputs": [
        {
          "output_type": "stream",
          "name": "stdout",
          "text": [
            "The number in the image below is: [5]\n"
          ]
        },
        {
          "output_type": "display_data",
          "data": {
            "text/plain": [
              "<Figure size 640x480 with 1 Axes>"
            ],
            "image/png": "[encoded data removed]"
          },
          "metadata": {}
        }
      ]
    },
    {
      "cell_type": "code",
      "source": [
        "X_norm = normalize(X)\n"
      ],
      "metadata": {
        "id": "UdXi5UJ-jp1n"
      },
      "execution_count": null,
      "outputs": []
    },
    {
      "cell_type": "code",
      "source": [
        "def visualize(X, Y, k):\n",
        "    img = np.reshape(X[k,:],(img_size, img_size)).T\n",
        "    print(f\"The digit shown below is labeled {Y[k]} with index number {k}:\")\n",
        "    plt.imshow(img)"
      ],
      "metadata": {
        "id": "eQDmg9Zyj45c"
      },
      "execution_count": null,
      "outputs": []
    },
    {
      "cell_type": "code",
      "source": [
        "idx = np.random.randint(m)\n",
        "visualize(X,Y,idx)"
      ],
      "metadata": {
        "colab": {
          "base_uri": "https://localhost:8080/",
          "height": 447
        },
        "id": "v2XcmgOwj9fq",
        "outputId": "308de66f-a997-4eae-bb82-cffc710d0527"
      },
      "execution_count": null,
      "outputs": [
        {
          "output_type": "stream",
          "name": "stdout",
          "text": [
            "The digit shown below is labeled [2] with index number 1478:\n"
          ]
        },
        {
          "output_type": "display_data",
          "data": {
            "text/plain": [
              "<Figure size 640x480 with 1 Axes>"
            ],
            "image/png": "[encoded data removed]"
          },
          "metadata": {}
        }
      ]
    },
    {
      "cell_type": "code",
      "source": [
        "# Split to train and test\n",
        "\n",
        "X_train, X_test, Y_train, Y_test = train_test_split(X_norm, Y, test_size=0.2, random_state=42)\n",
        "Y_train = Y_train.reshape(-1,1)\n",
        "Y_test = Y_test.reshape(-1,1)\n",
        "print(\"The shape of the training set feature matrix is:\", X_train.shape)\n",
        "print(\"The shape of the training label vector is:\", Y_train.shape)\n",
        "print(\"The shape of the test set feature matrix is:\", X_test.shape)\n",
        "print(\"The shape of the test label vector is:\", Y_test.shape)\n",
        "\n",
        "print(np.sum((Y_train==0).astype(int)))\n",
        "print(np.sum((Y_test==0).astype(int)))"
      ],
      "metadata": {
        "colab": {
          "base_uri": "https://localhost:8080/"
        },
        "id": "s-mO0N_UkABO",
        "outputId": "7700aa2b-a2c4-48e0-f9c9-4398ca0a2480"
      },
      "execution_count": null,
      "outputs": [
        {
          "output_type": "stream",
          "name": "stdout",
          "text": [
            "The shape of the training set feature matrix is: (4000, 400)\n",
            "The shape of the training label vector is: (4000, 1)\n",
            "The shape of the test set feature matrix is: (1000, 400)\n",
            "The shape of the test label vector is: (1000, 1)\n",
            "389\n",
            "111\n"
          ]
        }
      ]
    },
    {
      "cell_type": "code",
      "source": [
        "tot_cls = (np.max(Y) + 1).astype('int') # Number of classes, adding one to inclue zero\n",
        "\n",
        "print(tot_cls.dtype, tot_cls)"
      ],
      "metadata": {
        "colab": {
          "base_uri": "https://localhost:8080/"
        },
        "id": "LIF-J9EvkFzg",
        "outputId": "84429d39-5815-4c6f-9ead-39165794c8a7"
      },
      "execution_count": null,
      "outputs": [
        {
          "output_type": "stream",
          "name": "stdout",
          "text": [
            "int64 10\n"
          ]
        }
      ]
    },
    {
      "cell_type": "code",
      "source": [
        "Ymul_test = np.zeros((Y_test.shape[0], tot_cls))\n",
        "Ymul_train = np.zeros((Y_train.shape[0], tot_cls))\n",
        "\n",
        "\n",
        "for i in range(tot_cls):\n",
        "    Ymul_test[:,i] = (Y_test == i).astype('int').reshape(-1)\n",
        "    Ymul_train[:,i] = (Y_train == i).astype('int').reshape(-1)\n",
        "\n",
        "print(Ymul_test.shape, Ymul_test[0:10,:])"
      ],
      "metadata": {
        "colab": {
          "base_uri": "https://localhost:8080/"
        },
        "id": "n2bz-MEmkNch",
        "outputId": "c46a7a36-39ee-47f5-99e2-6e585a14b294"
      },
      "execution_count": null,
      "outputs": [
        {
          "output_type": "stream",
          "name": "stdout",
          "text": [
            "(1000, 10) [[0. 0. 0. 1. 0. 0. 0. 0. 0. 0.]\n",
            " [0. 0. 0. 0. 0. 1. 0. 0. 0. 0.]\n",
            " [0. 0. 0. 0. 0. 1. 0. 0. 0. 0.]\n",
            " [0. 0. 1. 0. 0. 0. 0. 0. 0. 0.]\n",
            " [0. 1. 0. 0. 0. 0. 0. 0. 0. 0.]\n",
            " [1. 0. 0. 0. 0. 0. 0. 0. 0. 0.]\n",
            " [0. 1. 0. 0. 0. 0. 0. 0. 0. 0.]\n",
            " [0. 0. 0. 0. 1. 0. 0. 0. 0. 0.]\n",
            " [0. 0. 0. 0. 1. 0. 0. 0. 0. 0.]\n",
            " [0. 0. 0. 1. 0. 0. 0. 0. 0. 0.]]\n"
          ]
        }
      ]
    },
    {
      "cell_type": "code",
      "source": [
        "idx = np.random.randint(X_train.shape[0])\n",
        "visualize(X_train,Y_train,idx)\n",
        "\n",
        "print(f\"The Ymul vector for this specific example is: {Ymul_train[idx,:]}\")"
      ],
      "metadata": {
        "colab": {
          "base_uri": "https://localhost:8080/",
          "height": 465
        },
        "id": "ysnDtMZykxjt",
        "outputId": "2a6a2899-ae40-4396-bd1a-49013d4be4cd"
      },
      "execution_count": null,
      "outputs": [
        {
          "output_type": "stream",
          "name": "stdout",
          "text": [
            "The digit shown below is labeled [5] with index number 2146:\n",
            "The Ymul vector for this specific example is: [0. 0. 0. 0. 0. 1. 0. 0. 0. 0.]\n"
          ]
        },
        {
          "output_type": "display_data",
          "data": {
            "text/plain": [
              "<Figure size 640x480 with 1 Axes>"
            ],
            "image/png": "[encoded data removed]"
          },
          "metadata": {}
        }
      ]
    },
    {
      "cell_type": "code",
      "source": [
        "X_train_n = concatenator(X_train)\n",
        "X_test_n = concatenator(X_test)\n",
        "\n",
        "print(X_train_n.shape)\n",
        "print(X_test_n.shape)"
      ],
      "metadata": {
        "colab": {
          "base_uri": "https://localhost:8080/"
        },
        "id": "nF0zHRNpk1-u",
        "outputId": "ca763194-d58a-4f3a-b95b-56959d4044ce"
      },
      "execution_count": null,
      "outputs": [
        {
          "output_type": "stream",
          "name": "stdout",
          "text": [
            "The data now has a column of ones in front. It went from dimensions (4000, 400) to (4000, 401)\n",
            "The data now has a column of ones in front. It went from dimensions (1000, 400) to (1000, 401)\n",
            "(4000, 401)\n",
            "(1000, 401)\n"
          ]
        }
      ]
    },
    {
      "cell_type": "code",
      "source": [
        "# Testing the model function by training a classifier\n",
        "\n",
        "l = 0\n",
        "alpha = 0.2\n",
        "epoch = 500\n",
        "batch_size = -1\n",
        "\n",
        "models = {}\n",
        "\n",
        "for i in range(tot_cls):\n",
        "    Ycurr_train = Ymul_train[:,i].reshape(-1,1)\n",
        "    Ycurr_test = Ymul_test[:,i].reshape(-1,1)\n",
        "    model = LogRegModel(X_train_n, Ycurr_train, X_test_n, Ycurr_test, alpha, epoch, batch_size, l)\n",
        "    print('Training completed!')\n",
        "\n",
        "    print(f\"The model for classifying digit {i} has the following properties:\")\n",
        "    print(model['confusion_matrix'])\n",
        "    print(f\"Train accuracy: {model['train_accuracy'] * 100} %, Test accuracy: {model['test_accuracy'] * 100} %\")\n",
        "\n",
        "    models['digit ' + str(i)] = model\n",
        "\n",
        "    plt.figure()\n",
        "    cost_values = model['cost_history']\n",
        "    plt.plot(list(range(len(cost_values))),cost_values)\n",
        "    plt.title('Evolution of the cost by iteration')\n",
        "    plt.xlabel('Iteration')\n",
        "    plt.ylabel('Cost');\n",
        "    plt.show()\n",
        "\n",
        "\n",
        "# Viewing the cost evolution over time of the trained model"
      ],
      "metadata": {
        "colab": {
          "base_uri": "https://localhost:8080/",
          "height": 1000
        },
        "id": "R-v41H1Jk7Ft",
        "outputId": "43aec826-b186-4b1d-f100-e7e270a760d2"
      },
      "execution_count": null,
      "outputs": [
        {
          "output_type": "stream",
          "name": "stdout",
          "text": [
            "iteration number 0 / 500, Cost: 0.6931471805599465, Train Acc: 90.275, Test Acc: 88.9\n",
            "iteration number 10 / 500, Cost: 0.06986913717300626, Train Acc: 97.89999999999999, Test Acc: 98.1\n",
            "iteration number 20 / 500, Cost: 0.05610256145203794, Train Acc: 98.5, Test Acc: 98.5\n",
            "iteration number 30 / 500, Cost: 0.04963938312254948, Train Acc: 98.7, Test Acc: 98.9\n",
            "iteration number 40 / 500, Cost: 0.045549493115942453, Train Acc: 98.825, Test Acc: 99.0\n",
            "iteration number 50 / 500, Cost: 0.042617387135814096, Train Acc: 98.925, Test Acc: 98.9\n",
            "iteration number 60 / 500, Cost: 0.040365384766212105, Train Acc: 98.9, Test Acc: 98.8\n",
            "iteration number 70 / 500, Cost: 0.0385571180974185, Train Acc: 98.95, Test Acc: 98.8\n",
            "iteration number 80 / 500, Cost: 0.037059107574923374, Train Acc: 98.97500000000001, Test Acc: 98.8\n",
            "iteration number 90 / 500, Cost: 0.035788973114836795, Train Acc: 99.02499999999999, Test Acc: 98.8\n",
            "iteration number 100 / 500, Cost: 0.03469248030200326, Train Acc: 99.02499999999999, Test Acc: 98.9\n",
            "iteration number 110 / 500, Cost: 0.03373212953148257, Train Acc: 99.05000000000001, Test Acc: 98.9\n",
            "iteration number 120 / 500, Cost: 0.03288097698670691, Train Acc: 99.05000000000001, Test Acc: 98.9\n",
            "iteration number 130 / 500, Cost: 0.03211905736329944, Train Acc: 99.05000000000001, Test Acc: 98.9\n",
            "iteration number 140 / 500, Cost: 0.0314311983376542, Train Acc: 99.1, Test Acc: 98.9\n",
            "iteration number 150 / 500, Cost: 0.030805624905670917, Train Acc: 99.15, Test Acc: 98.9\n",
            "iteration number 160 / 500, Cost: 0.030233034551182054, Train Acc: 99.175, Test Acc: 98.9\n",
            "iteration number 170 / 500, Cost: 0.029705964929907028, Train Acc: 99.175, Test Acc: 98.9\n",
            "iteration number 180 / 500, Cost: 0.02921834983078704, Train Acc: 99.175, Test Acc: 98.9\n",
            "iteration number 190 / 500, Cost: 0.028765200079507506, Train Acc: 99.2, Test Acc: 98.9\n",
            "iteration number 200 / 500, Cost: 0.02834236958612029, Train Acc: 99.2, Test Acc: 98.9\n",
            "iteration number 210 / 500, Cost: 0.027946380780180493, Train Acc: 99.2, Test Acc: 99.0\n",
            "iteration number 220 / 500, Cost: 0.027574292324499646, Train Acc: 99.225, Test Acc: 98.9\n",
            "iteration number 230 / 500, Cost: 0.02722359747735562, Train Acc: 99.225, Test Acc: 98.9\n",
            "iteration number 240 / 500, Cost: 0.026892145033003422, Train Acc: 99.25, Test Acc: 98.9\n",
            "iteration number 250 / 500, Cost: 0.026578077136697582, Train Acc: 99.275, Test Acc: 98.9\n",
            "iteration number 260 / 500, Cost: 0.026279779875865585, Train Acc: 99.3, Test Acc: 98.9\n",
            "iteration number 270 / 500, Cost: 0.025995843658538274, Train Acc: 99.325, Test Acc: 98.9\n",
            "iteration number 280 / 500, Cost: 0.02572503116977766, Train Acc: 99.325, Test Acc: 98.9\n",
            "iteration number 290 / 500, Cost: 0.02546625125306789, Train Acc: 99.325, Test Acc: 98.9\n",
            "iteration number 300 / 500, Cost: 0.025218537465982245, Train Acc: 99.325, Test Acc: 98.9\n",
            "iteration number 310 / 500, Cost: 0.024981030354161965, Train Acc: 99.325, Test Acc: 98.9\n",
            "iteration number 320 / 500, Cost: 0.02475296270603123, Train Acc: 99.325, Test Acc: 98.9\n",
            "iteration number 330 / 500, Cost: 0.024533647214216067, Train Acc: 99.325, Test Acc: 98.9\n",
            "iteration number 340 / 500, Cost: 0.024322466093305368, Train Acc: 99.325, Test Acc: 98.9\n",
            "iteration number 350 / 500, Cost: 0.02411886229795503, Train Acc: 99.325, Test Acc: 98.9\n",
            "iteration number 360 / 500, Cost: 0.02392233205794212, Train Acc: 99.325, Test Acc: 98.9\n",
            "iteration number 370 / 500, Cost: 0.023732418503075864, Train Acc: 99.325, Test Acc: 98.9\n",
            "iteration number 380 / 500, Cost: 0.023548706194848463, Train Acc: 99.325, Test Acc: 98.9\n",
            "iteration number 390 / 500, Cost: 0.023370816416293926, Train Acc: 99.35000000000001, Test Acc: 98.9\n",
            "iteration number 400 / 500, Cost: 0.02319840309889887, Train Acc: 99.35000000000001, Test Acc: 98.9\n",
            "iteration number 410 / 500, Cost: 0.023031149287211262, Train Acc: 99.35000000000001, Test Acc: 98.9\n",
            "iteration number 420 / 500, Cost: 0.022868764059256592, Train Acc: 99.35000000000001, Test Acc: 98.9\n",
            "iteration number 430 / 500, Cost: 0.022710979834938198, Train Acc: 99.35000000000001, Test Acc: 99.0\n",
            "iteration number 440 / 500, Cost: 0.022557550015987426, Train Acc: 99.35000000000001, Test Acc: 99.0\n",
            "iteration number 450 / 500, Cost: 0.02240824691029954, Train Acc: 99.35000000000001, Test Acc: 99.0\n",
            "iteration number 460 / 500, Cost: 0.02226285990107054, Train Acc: 99.375, Test Acc: 98.9\n",
            "iteration number 470 / 500, Cost: 0.022121193827377962, Train Acc: 99.4, Test Acc: 98.9\n",
            "iteration number 480 / 500, Cost: 0.021983067547987085, Train Acc: 99.4, Test Acc: 98.9\n",
            "iteration number 490 / 500, Cost: 0.02184831266442317, Train Acc: 99.45, Test Acc: 98.9\n",
            "Training completed!\n",
            "The model for classifying digit 0 has the following properties:\n",
            "[[882   7]\n",
            " [  4 107]]\n",
            "Train accuracy: 99.45 %, Test accuracy: 98.9 %\n"
          ]
        },
        {
          "output_type": "display_data",
          "data": {
            "text/plain": [
              "<Figure size 640x480 with 1 Axes>"
            ],
            "image/png": "[encoded data removed]"
          },
          "metadata": {}
        },
        {
          "output_type": "stream",
          "name": "stdout",
          "text": [
            "iteration number 0 / 500, Cost: 0.6931471805599465, Train Acc: 90.125, Test Acc: 89.5\n",
            "iteration number 10 / 500, Cost: 0.045398811921194195, Train Acc: 98.825, Test Acc: 98.1\n",
            "iteration number 20 / 500, Cost: 0.03936871511095525, Train Acc: 98.95, Test Acc: 98.4\n",
            "iteration number 30 / 500, Cost: 0.03612973337216262, Train Acc: 99.125, Test Acc: 98.5\n",
            "iteration number 40 / 500, Cost: 0.03401662442028926, Train Acc: 99.15, Test Acc: 98.7\n",
            "iteration number 50 / 500, Cost: 0.03249352631508366, Train Acc: 99.175, Test Acc: 98.6\n",
            "iteration number 60 / 500, Cost: 0.03132361305012635, Train Acc: 99.2, Test Acc: 98.6\n",
            "iteration number 70 / 500, Cost: 0.0303846490219508, Train Acc: 99.225, Test Acc: 98.5\n",
            "iteration number 80 / 500, Cost: 0.029606443723721558, Train Acc: 99.25, Test Acc: 98.5\n",
            "iteration number 90 / 500, Cost: 0.028945443180950863, Train Acc: 99.25, Test Acc: 98.5\n",
            "iteration number 100 / 500, Cost: 0.028372996894175606, Train Acc: 99.275, Test Acc: 98.5\n",
            "iteration number 110 / 500, Cost: 0.027869383337279736, Train Acc: 99.275, Test Acc: 98.5\n",
            "iteration number 120 / 500, Cost: 0.02742052620465788, Train Acc: 99.275, Test Acc: 98.5\n",
            "iteration number 130 / 500, Cost: 0.027016076281866145, Train Acc: 99.275, Test Acc: 98.5\n",
            "iteration number 140 / 500, Cost: 0.026648234231122763, Train Acc: 99.3, Test Acc: 98.6\n",
            "iteration number 150 / 500, Cost: 0.026310997958949187, Train Acc: 99.275, Test Acc: 98.6\n",
            "iteration number 160 / 500, Cost: 0.025999664621748457, Train Acc: 99.275, Test Acc: 98.6\n",
            "iteration number 170 / 500, Cost: 0.025710491328577587, Train Acc: 99.275, Test Acc: 98.6\n",
            "iteration number 180 / 500, Cost: 0.025440458051586595, Train Acc: 99.275, Test Acc: 98.6\n",
            "iteration number 190 / 500, Cost: 0.025187098260662448, Train Acc: 99.275, Test Acc: 98.6\n",
            "iteration number 200 / 500, Cost: 0.024948375562519238, Train Acc: 99.325, Test Acc: 98.7\n",
            "iteration number 210 / 500, Cost: 0.024722592283259914, Train Acc: 99.325, Test Acc: 98.7\n",
            "iteration number 220 / 500, Cost: 0.024508320668126117, Train Acc: 99.325, Test Acc: 98.7\n",
            "iteration number 230 / 500, Cost: 0.02430435037744802, Train Acc: 99.325, Test Acc: 98.7\n",
            "iteration number 240 / 500, Cost: 0.02410964791083432, Train Acc: 99.3, Test Acc: 98.7\n",
            "iteration number 250 / 500, Cost: 0.02392332488797169, Train Acc: 99.325, Test Acc: 98.8\n",
            "iteration number 260 / 500, Cost: 0.02374461299144874, Train Acc: 99.325, Test Acc: 98.8\n",
            "iteration number 270 / 500, Cost: 0.02357284398078838, Train Acc: 99.325, Test Acc: 98.8\n",
            "iteration number 280 / 500, Cost: 0.02340743360915897, Train Acc: 99.325, Test Acc: 98.8\n",
            "iteration number 290 / 500, Cost: 0.023247868573912023, Train Acc: 99.35000000000001, Test Acc: 98.8\n",
            "iteration number 300 / 500, Cost: 0.023093695847629853, Train Acc: 99.35000000000001, Test Acc: 98.7\n",
            "iteration number 310 / 500, Cost: 0.02294451389331122, Train Acc: 99.35000000000001, Test Acc: 98.7\n",
            "iteration number 320 / 500, Cost: 0.022799965382920846, Train Acc: 99.35000000000001, Test Acc: 98.7\n",
            "iteration number 330 / 500, Cost: 0.022659731124582506, Train Acc: 99.35000000000001, Test Acc: 98.7\n",
            "iteration number 340 / 500, Cost: 0.022523524968393584, Train Acc: 99.35000000000001, Test Acc: 98.7\n",
            "iteration number 350 / 500, Cost: 0.022391089509930448, Train Acc: 99.35000000000001, Test Acc: 98.7\n",
            "iteration number 360 / 500, Cost: 0.022262192448088036, Train Acc: 99.35000000000001, Test Acc: 98.7\n",
            "iteration number 370 / 500, Cost: 0.02213662348288538, Train Acc: 99.35000000000001, Test Acc: 98.7\n",
            "iteration number 380 / 500, Cost: 0.02201419166140442, Train Acc: 99.35000000000001, Test Acc: 98.7\n",
            "iteration number 390 / 500, Cost: 0.021894723097670304, Train Acc: 99.35000000000001, Test Acc: 98.7\n",
            "iteration number 400 / 500, Cost: 0.02177805900618336, Train Acc: 99.35000000000001, Test Acc: 98.7\n",
            "iteration number 410 / 500, Cost: 0.02166405399983455, Train Acc: 99.4, Test Acc: 98.7\n",
            "iteration number 420 / 500, Cost: 0.02155257461172639, Train Acc: 99.4, Test Acc: 98.7\n",
            "iteration number 430 / 500, Cost: 0.021443498007467993, Train Acc: 99.425, Test Acc: 98.7\n",
            "iteration number 440 / 500, Cost: 0.02133671086019328, Train Acc: 99.425, Test Acc: 98.8\n",
            "iteration number 450 / 500, Cost: 0.02123210836515017, Train Acc: 99.425, Test Acc: 98.8\n",
            "iteration number 460 / 500, Cost: 0.02112959337445131, Train Acc: 99.425, Test Acc: 98.8\n",
            "iteration number 470 / 500, Cost: 0.021029075635635802, Train Acc: 99.425, Test Acc: 98.8\n",
            "iteration number 480 / 500, Cost: 0.020930471120202795, Train Acc: 99.425, Test Acc: 98.8\n",
            "iteration number 490 / 500, Cost: 0.02083370143034939, Train Acc: 99.425, Test Acc: 98.8\n",
            "Training completed!\n",
            "The model for classifying digit 1 has the following properties:\n",
            "[[891   4]\n",
            " [  8  97]]\n",
            "Train accuracy: 99.425 %, Test accuracy: 98.8 %\n"
          ]
        },
        {
          "output_type": "display_data",
          "data": {
            "text/plain": [
              "<Figure size 640x480 with 1 Axes>"
            ],
            "image/png": "[encoded data removed]"
          },
          "metadata": {}
        },
        {
          "output_type": "stream",
          "name": "stdout",
          "text": [
            "iteration number 0 / 500, Cost: 0.6931471805599466, Train Acc: 90.125, Test Acc: 89.5\n",
            "iteration number 10 / 500, Cost: 0.12522404872783538, Train Acc: 95.975, Test Acc: 95.3\n",
            "iteration number 20 / 500, Cost: 0.10605202370239049, Train Acc: 96.8, Test Acc: 95.6\n",
            "iteration number 30 / 500, Cost: 0.09703468684837502, Train Acc: 97.02499999999999, Test Acc: 95.8\n",
            "iteration number 40 / 500, Cost: 0.09149113940628084, Train Acc: 97.125, Test Acc: 95.7\n",
            "iteration number 50 / 500, Cost: 0.08762904813216724, Train Acc: 97.3, Test Acc: 96.0\n",
            "iteration number 60 / 500, Cost: 0.08472997189123176, Train Acc: 97.32499999999999, Test Acc: 96.1\n",
            "iteration number 70 / 500, Cost: 0.08244233747616479, Train Acc: 97.425, Test Acc: 96.39999999999999\n",
            "iteration number 80 / 500, Cost: 0.08057140987696267, Train Acc: 97.475, Test Acc: 96.39999999999999\n",
            "iteration number 90 / 500, Cost: 0.07899961991568569, Train Acc: 97.6, Test Acc: 96.39999999999999\n",
            "iteration number 100 / 500, Cost: 0.07765129307652772, Train Acc: 97.675, Test Acc: 96.3\n",
            "iteration number 110 / 500, Cost: 0.0764752407217366, Train Acc: 97.65, Test Acc: 96.3\n",
            "iteration number 120 / 500, Cost: 0.07543543495268928, Train Acc: 97.7, Test Acc: 96.3\n",
            "iteration number 130 / 500, Cost: 0.07450568158702843, Train Acc: 97.75, Test Acc: 96.3\n",
            "iteration number 140 / 500, Cost: 0.07366641403184152, Train Acc: 97.725, Test Acc: 96.3\n",
            "iteration number 150 / 500, Cost: 0.07290267822737682, Train Acc: 97.725, Test Acc: 96.3\n",
            "iteration number 160 / 500, Cost: 0.07220281903435852, Train Acc: 97.775, Test Acc: 96.3\n",
            "iteration number 170 / 500, Cost: 0.0715575967191293, Train Acc: 97.82499999999999, Test Acc: 96.3\n",
            "iteration number 180 / 500, Cost: 0.07095957647078652, Train Acc: 97.82499999999999, Test Acc: 96.3\n",
            "iteration number 190 / 500, Cost: 0.07040269654820999, Train Acc: 97.875, Test Acc: 96.39999999999999\n",
            "iteration number 200 / 500, Cost: 0.06988195642069528, Train Acc: 97.89999999999999, Test Acc: 96.39999999999999\n",
            "iteration number 210 / 500, Cost: 0.06939318741032352, Train Acc: 97.925, Test Acc: 96.39999999999999\n",
            "iteration number 220 / 500, Cost: 0.06893288124025383, Train Acc: 97.89999999999999, Test Acc: 96.39999999999999\n",
            "iteration number 230 / 500, Cost: 0.06849805998010024, Train Acc: 97.89999999999999, Test Acc: 96.5\n",
            "iteration number 240 / 500, Cost: 0.06808617607863351, Train Acc: 97.925, Test Acc: 96.5\n",
            "iteration number 250 / 500, Cost: 0.0676950345921453, Train Acc: 97.925, Test Acc: 96.6\n",
            "iteration number 260 / 500, Cost: 0.06732273200981886, Train Acc: 97.95, Test Acc: 96.6\n",
            "iteration number 270 / 500, Cost: 0.06696760764403521, Train Acc: 97.95, Test Acc: 96.6\n",
            "iteration number 280 / 500, Cost: 0.06662820464170692, Train Acc: 97.95, Test Acc: 96.6\n",
            "iteration number 290 / 500, Cost: 0.06630323844007795, Train Acc: 97.975, Test Acc: 96.6\n",
            "iteration number 300 / 500, Cost: 0.06599157103905517, Train Acc: 97.975, Test Acc: 96.6\n",
            "iteration number 310 / 500, Cost: 0.06569218985939482, Train Acc: 98.0, Test Acc: 96.7\n",
            "iteration number 320 / 500, Cost: 0.06540419024709675, Train Acc: 98.0, Test Acc: 96.6\n",
            "iteration number 330 / 500, Cost: 0.06512676089989124, Train Acc: 98.0, Test Acc: 96.6\n",
            "iteration number 340 / 500, Cost: 0.06485917165293628, Train Acc: 98.0, Test Acc: 96.6\n",
            "iteration number 350 / 500, Cost: 0.06460076318259543, Train Acc: 98.05, Test Acc: 96.7\n",
            "iteration number 360 / 500, Cost: 0.06435093827992447, Train Acc: 98.075, Test Acc: 96.7\n",
            "iteration number 370 / 500, Cost: 0.06410915441674622, Train Acc: 98.125, Test Acc: 96.7\n",
            "iteration number 380 / 500, Cost: 0.06387491738235962, Train Acc: 98.125, Test Acc: 96.7\n",
            "iteration number 390 / 500, Cost: 0.06364777581195455, Train Acc: 98.125, Test Acc: 96.7\n",
            "iteration number 400 / 500, Cost: 0.0634273164616026, Train Acc: 98.125, Test Acc: 96.7\n",
            "iteration number 410 / 500, Cost: 0.06321316011141628, Train Acc: 98.125, Test Acc: 96.8\n",
            "iteration number 420 / 500, Cost: 0.06300495799973567, Train Acc: 98.125, Test Acc: 96.8\n",
            "iteration number 430 / 500, Cost: 0.06280238870822714, Train Acc: 98.125, Test Acc: 96.8\n",
            "iteration number 440 / 500, Cost: 0.06260515543148772, Train Acc: 98.125, Test Acc: 96.7\n",
            "iteration number 450 / 500, Cost: 0.06241298357584904, Train Acc: 98.125, Test Acc: 96.7\n",
            "iteration number 460 / 500, Cost: 0.06222561864110913, Train Acc: 98.15, Test Acc: 96.7\n",
            "iteration number 470 / 500, Cost: 0.06204282434631112, Train Acc: 98.15, Test Acc: 96.7\n",
            "iteration number 480 / 500, Cost: 0.06186438096676313, Train Acc: 98.15, Test Acc: 96.7\n",
            "iteration number 490 / 500, Cost: 0.06169008385450931, Train Acc: 98.15, Test Acc: 96.7\n",
            "Training completed!\n",
            "The model for classifying digit 2 has the following properties:\n",
            "[[882  13]\n",
            " [ 20  85]]\n",
            "Train accuracy: 98.15 %, Test accuracy: 96.7 %\n"
          ]
        },
        {
          "output_type": "display_data",
          "data": {
            "text/plain": [
              "<Figure size 640x480 with 1 Axes>"
            ],
            "image/png": "[encoded data removed]"
          },
          "metadata": {}
        },
        {
          "output_type": "stream",
          "name": "stdout",
          "text": [
            "iteration number 0 / 500, Cost: 0.6931471805599465, Train Acc: 89.625, Test Acc: 91.5\n",
            "iteration number 10 / 500, Cost: 0.1292940537676155, Train Acc: 95.875, Test Acc: 96.7\n",
            "iteration number 20 / 500, Cost: 0.11284119836442716, Train Acc: 96.39999999999999, Test Acc: 97.0\n",
            "iteration number 30 / 500, Cost: 0.10514876586481546, Train Acc: 96.525, Test Acc: 97.1\n",
            "iteration number 40 / 500, Cost: 0.10031154613262633, Train Acc: 96.72500000000001, Test Acc: 97.0\n",
            "iteration number 50 / 500, Cost: 0.09686990386918937, Train Acc: 96.875, Test Acc: 97.1\n",
            "iteration number 60 / 500, Cost: 0.09424015575763199, Train Acc: 97.2, Test Acc: 97.1\n",
            "iteration number 70 / 500, Cost: 0.09213486009236103, Train Acc: 97.2, Test Acc: 97.3\n",
            "iteration number 80 / 500, Cost: 0.09039308876733793, Train Acc: 97.25, Test Acc: 97.2\n",
            "iteration number 90 / 500, Cost: 0.08891641549007256, Train Acc: 97.275, Test Acc: 97.2\n",
            "iteration number 100 / 500, Cost: 0.08764060678956405, Train Acc: 97.39999999999999, Test Acc: 97.2\n",
            "iteration number 110 / 500, Cost: 0.08652160677309303, Train Acc: 97.39999999999999, Test Acc: 97.3\n",
            "iteration number 120 / 500, Cost: 0.08552798613512098, Train Acc: 97.39999999999999, Test Acc: 97.3\n",
            "iteration number 130 / 500, Cost: 0.08463659683611012, Train Acc: 97.39999999999999, Test Acc: 97.3\n",
            "iteration number 140 / 500, Cost: 0.08382993549433554, Train Acc: 97.425, Test Acc: 97.39999999999999\n",
            "iteration number 150 / 500, Cost: 0.08309447211350346, Train Acc: 97.425, Test Acc: 97.39999999999999\n",
            "iteration number 160 / 500, Cost: 0.08241955100492881, Train Acc: 97.475, Test Acc: 97.39999999999999\n",
            "iteration number 170 / 500, Cost: 0.08179664488860557, Train Acc: 97.5, Test Acc: 97.3\n",
            "iteration number 180 / 500, Cost: 0.08121883469619524, Train Acc: 97.6, Test Acc: 97.3\n",
            "iteration number 190 / 500, Cost: 0.08068043803843171, Train Acc: 97.65, Test Acc: 97.3\n",
            "iteration number 200 / 500, Cost: 0.08017673823425708, Train Acc: 97.65, Test Acc: 97.3\n",
            "iteration number 210 / 500, Cost: 0.0797037829882862, Train Acc: 97.625, Test Acc: 97.3\n",
            "iteration number 220 / 500, Cost: 0.07925823233387413, Train Acc: 97.625, Test Acc: 97.3\n",
            "iteration number 230 / 500, Cost: 0.07883724208951018, Train Acc: 97.625, Test Acc: 97.3\n",
            "iteration number 240 / 500, Cost: 0.07843837335490549, Train Acc: 97.675, Test Acc: 97.3\n",
            "iteration number 250 / 500, Cost: 0.07805952139627785, Train Acc: 97.7, Test Acc: 97.3\n",
            "iteration number 260 / 500, Cost: 0.07769885917124907, Train Acc: 97.725, Test Acc: 97.39999999999999\n",
            "iteration number 270 / 500, Cost: 0.077354792047668, Train Acc: 97.725, Test Acc: 97.39999999999999\n",
            "iteration number 280 / 500, Cost: 0.07702592118044871, Train Acc: 97.75, Test Acc: 97.5\n",
            "iteration number 290 / 500, Cost: 0.07671101365533659, Train Acc: 97.75, Test Acc: 97.5\n",
            "iteration number 300 / 500, Cost: 0.07640897797223026, Train Acc: 97.775, Test Acc: 97.5\n",
            "iteration number 310 / 500, Cost: 0.07611884377866744, Train Acc: 97.775, Test Acc: 97.5\n",
            "iteration number 320 / 500, Cost: 0.07583974501349607, Train Acc: 97.82499999999999, Test Acc: 97.5\n",
            "iteration number 330 / 500, Cost: 0.07557090580694514, Train Acc: 97.82499999999999, Test Acc: 97.5\n",
            "iteration number 340 / 500, Cost: 0.075311628623796, Train Acc: 97.85000000000001, Test Acc: 97.5\n",
            "iteration number 350 / 500, Cost: 0.07506128424341497, Train Acc: 97.875, Test Acc: 97.5\n",
            "iteration number 360 / 500, Cost: 0.07481930325274419, Train Acc: 97.89999999999999, Test Acc: 97.5\n",
            "iteration number 370 / 500, Cost: 0.07458516879222166, Train Acc: 97.89999999999999, Test Acc: 97.5\n",
            "iteration number 380 / 500, Cost: 0.07435841034454156, Train Acc: 97.89999999999999, Test Acc: 97.6\n",
            "iteration number 390 / 500, Cost: 0.07413859839550568, Train Acc: 97.925, Test Acc: 97.6\n",
            "iteration number 400 / 500, Cost: 0.07392533982742279, Train Acc: 97.89999999999999, Test Acc: 97.6\n",
            "iteration number 410 / 500, Cost: 0.07371827393042199, Train Acc: 97.89999999999999, Test Acc: 97.6\n",
            "iteration number 420 / 500, Cost: 0.07351706893705276, Train Acc: 97.89999999999999, Test Acc: 97.6\n",
            "iteration number 430 / 500, Cost: 0.0733214190017044, Train Acc: 97.89999999999999, Test Acc: 97.6\n",
            "iteration number 440 / 500, Cost: 0.07313104155949555, Train Acc: 97.89999999999999, Test Acc: 97.6\n",
            "iteration number 450 / 500, Cost: 0.07294567500999187, Train Acc: 97.925, Test Acc: 97.6\n",
            "iteration number 460 / 500, Cost: 0.07276507667988523, Train Acc: 97.925, Test Acc: 97.6\n",
            "iteration number 470 / 500, Cost: 0.07258902102599483, Train Acc: 97.925, Test Acc: 97.6\n",
            "iteration number 480 / 500, Cost: 0.07241729804592555, Train Acc: 97.925, Test Acc: 97.6\n",
            "iteration number 490 / 500, Cost: 0.07224971186867915, Train Acc: 97.925, Test Acc: 97.6\n",
            "Training completed!\n",
            "The model for classifying digit 3 has the following properties:\n",
            "[[904  11]\n",
            " [ 13  72]]\n",
            "Train accuracy: 97.925 %, Test accuracy: 97.6 %\n"
          ]
        },
        {
          "output_type": "display_data",
          "data": {
            "text/plain": [
              "<Figure size 640x480 with 1 Axes>"
            ],
            "image/png": "[encoded data removed]"
          },
          "metadata": {}
        },
        {
          "output_type": "stream",
          "name": "stdout",
          "text": [
            "iteration number 0 / 500, Cost: 0.6931471805599466, Train Acc: 89.85, Test Acc: 90.60000000000001\n",
            "iteration number 10 / 500, Cost: 0.10439641280910227, Train Acc: 97.02499999999999, Test Acc: 97.0\n",
            "iteration number 20 / 500, Cost: 0.08780880473300674, Train Acc: 97.39999999999999, Test Acc: 97.3\n",
            "iteration number 30 / 500, Cost: 0.07979477592337925, Train Acc: 97.75, Test Acc: 97.7\n",
            "iteration number 40 / 500, Cost: 0.0747849586119923, Train Acc: 97.82499999999999, Test Acc: 97.89999999999999\n",
            "iteration number 50 / 500, Cost: 0.07127311959544727, Train Acc: 97.95, Test Acc: 98.0\n",
            "iteration number 60 / 500, Cost: 0.0686302658163475, Train Acc: 98.075, Test Acc: 97.89999999999999\n",
            "iteration number 70 / 500, Cost: 0.06654173066155485, Train Acc: 98.075, Test Acc: 97.89999999999999\n",
            "iteration number 80 / 500, Cost: 0.06483128526498558, Train Acc: 98.175, Test Acc: 97.89999999999999\n",
            "iteration number 90 / 500, Cost: 0.06339202660847763, Train Acc: 98.125, Test Acc: 97.89999999999999\n",
            "iteration number 100 / 500, Cost: 0.06215507468737933, Train Acc: 98.15, Test Acc: 97.89999999999999\n",
            "iteration number 110 / 500, Cost: 0.061073888524214574, Train Acc: 98.15, Test Acc: 97.89999999999999\n",
            "iteration number 120 / 500, Cost: 0.060115783000406514, Train Acc: 98.225, Test Acc: 97.89999999999999\n",
            "iteration number 130 / 500, Cost: 0.059257054760892575, Train Acc: 98.3, Test Acc: 97.89999999999999\n",
            "iteration number 140 / 500, Cost: 0.05848004072078303, Train Acc: 98.35000000000001, Test Acc: 97.89999999999999\n",
            "iteration number 150 / 500, Cost: 0.05777126876344828, Train Acc: 98.32499999999999, Test Acc: 97.89999999999999\n",
            "iteration number 160 / 500, Cost: 0.05712025402130863, Train Acc: 98.35000000000001, Test Acc: 97.89999999999999\n",
            "iteration number 170 / 500, Cost: 0.05651869156079754, Train Acc: 98.35000000000001, Test Acc: 97.89999999999999\n",
            "iteration number 180 / 500, Cost: 0.05595990057986135, Train Acc: 98.35000000000001, Test Acc: 97.89999999999999\n",
            "iteration number 190 / 500, Cost: 0.05543843281516415, Train Acc: 98.375, Test Acc: 97.89999999999999\n",
            "iteration number 200 / 500, Cost: 0.05494979089894879, Train Acc: 98.425, Test Acc: 97.89999999999999\n",
            "iteration number 210 / 500, Cost: 0.05449022200817423, Train Acc: 98.425, Test Acc: 97.89999999999999\n",
            "iteration number 220 / 500, Cost: 0.05405656412488824, Train Acc: 98.425, Test Acc: 98.0\n",
            "iteration number 230 / 500, Cost: 0.05364612973749351, Train Acc: 98.45, Test Acc: 97.89999999999999\n",
            "iteration number 240 / 500, Cost: 0.05325661663428569, Train Acc: 98.45, Test Acc: 97.89999999999999\n",
            "iteration number 250 / 500, Cost: 0.05288603860216392, Train Acc: 98.45, Test Acc: 97.89999999999999\n",
            "iteration number 260 / 500, Cost: 0.05253267095652592, Train Acc: 98.5, Test Acc: 97.89999999999999\n",
            "iteration number 270 / 500, Cost: 0.05219500726571181, Train Acc: 98.52499999999999, Test Acc: 97.89999999999999\n",
            "iteration number 280 / 500, Cost: 0.05187172462693067, Train Acc: 98.52499999999999, Test Acc: 97.89999999999999\n",
            "iteration number 290 / 500, Cost: 0.05156165554770216, Train Acc: 98.52499999999999, Test Acc: 97.89999999999999\n",
            "iteration number 300 / 500, Cost: 0.05126376498272451, Train Acc: 98.52499999999999, Test Acc: 97.89999999999999\n",
            "iteration number 310 / 500, Cost: 0.05097713143338314, Train Acc: 98.55000000000001, Test Acc: 97.89999999999999\n",
            "iteration number 320 / 500, Cost: 0.050700931277666644, Train Acc: 98.55000000000001, Test Acc: 97.89999999999999\n",
            "iteration number 330 / 500, Cost: 0.050434425690409054, Train Acc: 98.55000000000001, Test Acc: 97.89999999999999\n",
            "iteration number 340 / 500, Cost: 0.05017694965698074, Train Acc: 98.55000000000001, Test Acc: 97.89999999999999\n",
            "iteration number 350 / 500, Cost: 0.04992790269134592, Train Acc: 98.55000000000001, Test Acc: 97.89999999999999\n",
            "iteration number 360 / 500, Cost: 0.049686740951305056, Train Acc: 98.55000000000001, Test Acc: 97.89999999999999\n",
            "iteration number 370 / 500, Cost: 0.04945297050652123, Train Acc: 98.55000000000001, Test Acc: 97.89999999999999\n",
            "iteration number 380 / 500, Cost: 0.04922614156345888, Train Acc: 98.55000000000001, Test Acc: 97.89999999999999\n",
            "iteration number 390 / 500, Cost: 0.04900584348917273, Train Acc: 98.55000000000001, Test Acc: 97.89999999999999\n",
            "iteration number 400 / 500, Cost: 0.04879170050556527, Train Acc: 98.55000000000001, Test Acc: 97.89999999999999\n",
            "iteration number 410 / 500, Cost: 0.04858336794919769, Train Acc: 98.575, Test Acc: 97.89999999999999\n",
            "iteration number 420 / 500, Cost: 0.04838052901041686, Train Acc: 98.575, Test Acc: 97.89999999999999\n",
            "iteration number 430 / 500, Cost: 0.04818289188052402, Train Acc: 98.575, Test Acc: 97.89999999999999\n",
            "iteration number 440 / 500, Cost: 0.047990187247771404, Train Acc: 98.575, Test Acc: 97.89999999999999\n",
            "iteration number 450 / 500, Cost: 0.0478021660927504, Train Acc: 98.6, Test Acc: 97.89999999999999\n",
            "iteration number 460 / 500, Cost: 0.04761859774170452, Train Acc: 98.6, Test Acc: 97.89999999999999\n",
            "iteration number 470 / 500, Cost: 0.04743926814283272, Train Acc: 98.6, Test Acc: 97.89999999999999\n",
            "iteration number 480 / 500, Cost: 0.04726397833602742, Train Acc: 98.6, Test Acc: 97.89999999999999\n",
            "iteration number 490 / 500, Cost: 0.04709254309094297, Train Acc: 98.6, Test Acc: 97.89999999999999\n",
            "Training completed!\n",
            "The model for classifying digit 4 has the following properties:\n",
            "[[901   5]\n",
            " [ 16  78]]\n",
            "Train accuracy: 98.625 %, Test accuracy: 97.89999999999999 %\n"
          ]
        },
        {
          "output_type": "display_data",
          "data": {
            "text/plain": [
              "<Figure size 640x480 with 1 Axes>"
            ],
            "image/png": "[encoded data removed]"
          },
          "metadata": {}
        },
        {
          "output_type": "stream",
          "name": "stdout",
          "text": [
            "iteration number 0 / 500, Cost: 0.6931471805599465, Train Acc: 89.95, Test Acc: 90.2\n",
            "iteration number 10 / 500, Cost: 0.15627687588461783, Train Acc: 94.05, Test Acc: 94.0\n",
            "iteration number 20 / 500, Cost: 0.13145195296086326, Train Acc: 95.7, Test Acc: 95.39999999999999\n",
            "iteration number 30 / 500, Cost: 0.1197003584962489, Train Acc: 96.0, Test Acc: 95.7\n",
            "iteration number 40 / 500, Cost: 0.11241657660287445, Train Acc: 96.35000000000001, Test Acc: 95.8\n",
            "iteration number 50 / 500, Cost: 0.10731619249097529, Train Acc: 96.525, Test Acc: 95.89999999999999\n",
            "iteration number 60 / 500, Cost: 0.10347097582244658, Train Acc: 96.72500000000001, Test Acc: 95.7\n",
            "iteration number 70 / 500, Cost: 0.1004248794831309, Train Acc: 96.89999999999999, Test Acc: 96.0\n",
            "iteration number 80 / 500, Cost: 0.09792484299910882, Train Acc: 96.975, Test Acc: 96.2\n",
            "iteration number 90 / 500, Cost: 0.09581786178650673, Train Acc: 97.02499999999999, Test Acc: 96.3\n",
            "iteration number 100 / 500, Cost: 0.09400529994572324, Train Acc: 97.02499999999999, Test Acc: 96.3\n",
            "iteration number 110 / 500, Cost: 0.0924203201914397, Train Acc: 97.02499999999999, Test Acc: 96.3\n",
            "iteration number 120 / 500, Cost: 0.09101578958586219, Train Acc: 97.05, Test Acc: 96.3\n",
            "iteration number 130 / 500, Cost: 0.08975736883837539, Train Acc: 97.1, Test Acc: 96.2\n",
            "iteration number 140 / 500, Cost: 0.0886193517463462, Train Acc: 97.1, Test Acc: 96.2\n",
            "iteration number 150 / 500, Cost: 0.08758204917553587, Train Acc: 97.125, Test Acc: 96.2\n",
            "iteration number 160 / 500, Cost: 0.08663008268338199, Train Acc: 97.125, Test Acc: 96.2\n",
            "iteration number 170 / 500, Cost: 0.08575123592201948, Train Acc: 97.25, Test Acc: 96.3\n",
            "iteration number 180 / 500, Cost: 0.08493566015642182, Train Acc: 97.275, Test Acc: 96.39999999999999\n",
            "iteration number 190 / 500, Cost: 0.08417531150516336, Train Acc: 97.3, Test Acc: 96.39999999999999\n",
            "iteration number 200 / 500, Cost: 0.08346354389952916, Train Acc: 97.3, Test Acc: 96.3\n",
            "iteration number 210 / 500, Cost: 0.08279480917706014, Train Acc: 97.35000000000001, Test Acc: 96.39999999999999\n",
            "iteration number 220 / 500, Cost: 0.08216443244341, Train Acc: 97.35000000000001, Test Acc: 96.39999999999999\n",
            "iteration number 230 / 500, Cost: 0.08156844131427436, Train Acc: 97.375, Test Acc: 96.39999999999999\n",
            "iteration number 240 / 500, Cost: 0.08100343438109488, Train Acc: 97.35000000000001, Test Acc: 96.39999999999999\n",
            "iteration number 250 / 500, Cost: 0.08046647866748745, Train Acc: 97.39999999999999, Test Acc: 96.39999999999999\n",
            "iteration number 260 / 500, Cost: 0.07995502880940496, Train Acc: 97.425, Test Acc: 96.5\n",
            "iteration number 270 / 500, Cost: 0.07946686271818265, Train Acc: 97.45, Test Acc: 96.5\n",
            "iteration number 280 / 500, Cost: 0.07900002989333822, Train Acc: 97.45, Test Acc: 96.39999999999999\n",
            "iteration number 290 / 500, Cost: 0.07855280954534283, Train Acc: 97.45, Test Acc: 96.39999999999999\n",
            "iteration number 300 / 500, Cost: 0.07812367639958108, Train Acc: 97.475, Test Acc: 96.39999999999999\n",
            "iteration number 310 / 500, Cost: 0.0777112725683248, Train Acc: 97.475, Test Acc: 96.5\n",
            "iteration number 320 / 500, Cost: 0.07731438425600241, Train Acc: 97.5, Test Acc: 96.39999999999999\n",
            "iteration number 330 / 500, Cost: 0.07693192234393315, Train Acc: 97.475, Test Acc: 96.39999999999999\n",
            "iteration number 340 / 500, Cost: 0.07656290611133494, Train Acc: 97.52499999999999, Test Acc: 96.39999999999999\n",
            "iteration number 350 / 500, Cost: 0.07620644950888593, Train Acc: 97.52499999999999, Test Acc: 96.5\n",
            "iteration number 360 / 500, Cost: 0.07586174952293158, Train Acc: 97.55, Test Acc: 96.5\n",
            "iteration number 370 / 500, Cost: 0.07552807626225023, Train Acc: 97.575, Test Acc: 96.5\n",
            "iteration number 380 / 500, Cost: 0.07520476447211231, Train Acc: 97.6, Test Acc: 96.5\n",
            "iteration number 390 / 500, Cost: 0.07489120623730605, Train Acc: 97.625, Test Acc: 96.6\n",
            "iteration number 400 / 500, Cost: 0.07458684468062692, Train Acc: 97.625, Test Acc: 96.6\n",
            "iteration number 410 / 500, Cost: 0.07429116849884097, Train Acc: 97.625, Test Acc: 96.6\n",
            "iteration number 420 / 500, Cost: 0.07400370720644642, Train Acc: 97.675, Test Acc: 96.6\n",
            "iteration number 430 / 500, Cost: 0.07372402698025737, Train Acc: 97.675, Test Acc: 96.6\n",
            "iteration number 440 / 500, Cost: 0.07345172701613736, Train Acc: 97.675, Test Acc: 96.5\n",
            "iteration number 450 / 500, Cost: 0.07318643632404451, Train Acc: 97.7, Test Acc: 96.5\n",
            "iteration number 460 / 500, Cost: 0.07292781089963286, Train Acc: 97.7, Test Acc: 96.5\n",
            "iteration number 470 / 500, Cost: 0.07267553122054433, Train Acc: 97.7, Test Acc: 96.6\n",
            "iteration number 480 / 500, Cost: 0.07242930002365568, Train Acc: 97.7, Test Acc: 96.6\n",
            "iteration number 490 / 500, Cost: 0.07218884032626097, Train Acc: 97.7, Test Acc: 96.6\n",
            "Training completed!\n",
            "The model for classifying digit 5 has the following properties:\n",
            "[[889  13]\n",
            " [ 21  77]]\n",
            "Train accuracy: 97.75 %, Test accuracy: 96.6 %\n"
          ]
        },
        {
          "output_type": "display_data",
          "data": {
            "text/plain": [
              "<Figure size 640x480 with 1 Axes>"
            ],
            "image/png": "[encoded data removed]"
          },
          "metadata": {}
        },
        {
          "output_type": "stream",
          "name": "stdout",
          "text": [
            "iteration number 0 / 500, Cost: 0.6931471805599466, Train Acc: 89.95, Test Acc: 90.2\n",
            "iteration number 10 / 500, Cost: 0.07613966921512269, Train Acc: 97.875, Test Acc: 97.7\n",
            "iteration number 20 / 500, Cost: 0.06247712066555299, Train Acc: 98.2, Test Acc: 98.0\n",
            "iteration number 30 / 500, Cost: 0.05571774975904907, Train Acc: 98.375, Test Acc: 98.1\n",
            "iteration number 40 / 500, Cost: 0.05154182158287314, Train Acc: 98.6, Test Acc: 97.8\n",
            "iteration number 50 / 500, Cost: 0.04865020745253466, Train Acc: 98.65, Test Acc: 98.1\n",
            "iteration number 60 / 500, Cost: 0.04649694612063299, Train Acc: 98.675, Test Acc: 98.2\n",
            "iteration number 70 / 500, Cost: 0.044810142099149325, Train Acc: 98.8, Test Acc: 98.2\n",
            "iteration number 80 / 500, Cost: 0.04343851944180288, Train Acc: 98.8, Test Acc: 98.2\n",
            "iteration number 90 / 500, Cost: 0.042290946016934186, Train Acc: 98.825, Test Acc: 98.3\n",
            "iteration number 100 / 500, Cost: 0.04130910376259737, Train Acc: 98.9, Test Acc: 98.4\n",
            "iteration number 110 / 500, Cost: 0.04045385028547255, Train Acc: 98.97500000000001, Test Acc: 98.4\n",
            "iteration number 120 / 500, Cost: 0.03969787573405102, Train Acc: 99.02499999999999, Test Acc: 98.4\n",
            "iteration number 130 / 500, Cost: 0.039021502901686565, Train Acc: 99.05000000000001, Test Acc: 98.5\n",
            "iteration number 140 / 500, Cost: 0.038410163438388704, Train Acc: 99.05000000000001, Test Acc: 98.5\n",
            "iteration number 150 / 500, Cost: 0.03785281737483296, Train Acc: 99.05000000000001, Test Acc: 98.5\n",
            "iteration number 160 / 500, Cost: 0.03734092807469647, Train Acc: 99.05000000000001, Test Acc: 98.6\n",
            "iteration number 170 / 500, Cost: 0.03686777705042563, Train Acc: 99.05000000000001, Test Acc: 98.6\n",
            "iteration number 180 / 500, Cost: 0.036427993757347066, Train Acc: 99.05000000000001, Test Acc: 98.6\n",
            "iteration number 190 / 500, Cost: 0.03601722536669573, Train Acc: 99.05000000000001, Test Acc: 98.6\n",
            "iteration number 200 / 500, Cost: 0.035631900038445324, Train Acc: 99.05000000000001, Test Acc: 98.6\n",
            "iteration number 210 / 500, Cost: 0.03526905407933727, Train Acc: 99.075, Test Acc: 98.6\n",
            "iteration number 220 / 500, Cost: 0.034926203645441106, Train Acc: 99.075, Test Acc: 98.6\n",
            "iteration number 230 / 500, Cost: 0.03460124807595022, Train Acc: 99.075, Test Acc: 98.6\n",
            "iteration number 240 / 500, Cost: 0.03429239606281984, Train Acc: 99.075, Test Acc: 98.5\n",
            "iteration number 250 / 500, Cost: 0.03399810855646415, Train Acc: 99.075, Test Acc: 98.5\n",
            "iteration number 260 / 500, Cost: 0.033717054107052516, Train Acc: 99.075, Test Acc: 98.5\n",
            "iteration number 270 / 500, Cost: 0.03344807356354697, Train Acc: 99.075, Test Acc: 98.5\n",
            "iteration number 280 / 500, Cost: 0.03319015189698938, Train Acc: 99.075, Test Acc: 98.5\n",
            "iteration number 290 / 500, Cost: 0.03294239550648719, Train Acc: 99.05000000000001, Test Acc: 98.5\n",
            "iteration number 300 / 500, Cost: 0.0327040137870901, Train Acc: 99.075, Test Acc: 98.5\n",
            "iteration number 310 / 500, Cost: 0.03247430404165699, Train Acc: 99.075, Test Acc: 98.5\n",
            "iteration number 320 / 500, Cost: 0.03225263903948733, Train Acc: 99.075, Test Acc: 98.5\n",
            "iteration number 330 / 500, Cost: 0.032038456687042506, Train Acc: 99.075, Test Acc: 98.5\n",
            "iteration number 340 / 500, Cost: 0.03183125139706351, Train Acc: 99.075, Test Acc: 98.5\n",
            "iteration number 350 / 500, Cost: 0.03163056683330343, Train Acc: 99.075, Test Acc: 98.5\n",
            "iteration number 360 / 500, Cost: 0.03143598977703535, Train Acc: 99.075, Test Acc: 98.5\n",
            "iteration number 370 / 500, Cost: 0.031247144914221467, Train Acc: 99.075, Test Acc: 98.5\n",
            "iteration number 380 / 500, Cost: 0.031063690382880364, Train Acc: 99.1, Test Acc: 98.5\n",
            "iteration number 390 / 500, Cost: 0.03088531395176859, Train Acc: 99.125, Test Acc: 98.5\n",
            "iteration number 400 / 500, Cost: 0.030711729726201675, Train Acc: 99.125, Test Acc: 98.5\n",
            "iteration number 410 / 500, Cost: 0.030542675296305156, Train Acc: 99.125, Test Acc: 98.5\n",
            "iteration number 420 / 500, Cost: 0.030377909258421106, Train Acc: 99.15, Test Acc: 98.5\n",
            "iteration number 430 / 500, Cost: 0.030217209052708895, Train Acc: 99.15, Test Acc: 98.5\n",
            "iteration number 440 / 500, Cost: 0.03006036906986051, Train Acc: 99.15, Test Acc: 98.5\n",
            "iteration number 450 / 500, Cost: 0.029907198987825793, Train Acc: 99.15, Test Acc: 98.5\n",
            "iteration number 460 / 500, Cost: 0.029757522305912647, Train Acc: 99.15, Test Acc: 98.5\n",
            "iteration number 470 / 500, Cost: 0.029611175048903503, Train Acc: 99.15, Test Acc: 98.5\n",
            "iteration number 480 / 500, Cost: 0.029468004618153885, Train Acc: 99.15, Test Acc: 98.5\n",
            "iteration number 490 / 500, Cost: 0.029327868770199092, Train Acc: 99.15, Test Acc: 98.5\n",
            "Training completed!\n",
            "The model for classifying digit 6 has the following properties:\n",
            "[[894   8]\n",
            " [  7  91]]\n",
            "Train accuracy: 99.175 %, Test accuracy: 98.5 %\n"
          ]
        },
        {
          "output_type": "display_data",
          "data": {
            "text/plain": [
              "<Figure size 640x480 with 1 Axes>"
            ],
            "image/png": "[encoded data removed]"
          },
          "metadata": {}
        },
        {
          "output_type": "stream",
          "name": "stdout",
          "text": [
            "iteration number 0 / 500, Cost: 0.6931471805599466, Train Acc: 90.3, Test Acc: 88.8\n",
            "iteration number 10 / 500, Cost: 0.07928509089852767, Train Acc: 97.45, Test Acc: 97.1\n",
            "iteration number 20 / 500, Cost: 0.06923927298699184, Train Acc: 97.82499999999999, Test Acc: 97.3\n",
            "iteration number 30 / 500, Cost: 0.06412341328234808, Train Acc: 97.975, Test Acc: 97.39999999999999\n",
            "iteration number 40 / 500, Cost: 0.06079496333721326, Train Acc: 98.1, Test Acc: 97.39999999999999\n",
            "iteration number 50 / 500, Cost: 0.05837394817088503, Train Acc: 98.2, Test Acc: 97.39999999999999\n",
            "iteration number 60 / 500, Cost: 0.056492117410182514, Train Acc: 98.3, Test Acc: 97.6\n",
            "iteration number 70 / 500, Cost: 0.054963295148291506, Train Acc: 98.32499999999999, Test Acc: 97.7\n",
            "iteration number 80 / 500, Cost: 0.05368152776705106, Train Acc: 98.35000000000001, Test Acc: 97.7\n",
            "iteration number 90 / 500, Cost: 0.05258129136256164, Train Acc: 98.375, Test Acc: 97.7\n",
            "iteration number 100 / 500, Cost: 0.05161947468337295, Train Acc: 98.45, Test Acc: 97.8\n",
            "iteration number 110 / 500, Cost: 0.05076631974146466, Train Acc: 98.475, Test Acc: 97.8\n",
            "iteration number 120 / 500, Cost: 0.0500004886300354, Train Acc: 98.475, Test Acc: 97.89999999999999\n",
            "iteration number 130 / 500, Cost: 0.049306201769356725, Train Acc: 98.5, Test Acc: 97.89999999999999\n",
            "iteration number 140 / 500, Cost: 0.048671489677909074, Train Acc: 98.52499999999999, Test Acc: 97.89999999999999\n",
            "iteration number 150 / 500, Cost: 0.04808707792136886, Train Acc: 98.575, Test Acc: 98.0\n",
            "iteration number 160 / 500, Cost: 0.047545649501675426, Train Acc: 98.6, Test Acc: 98.1\n",
            "iteration number 170 / 500, Cost: 0.04704134149218865, Train Acc: 98.65, Test Acc: 98.1\n",
            "iteration number 180 / 500, Cost: 0.04656939219879263, Train Acc: 98.65, Test Acc: 98.1\n",
            "iteration number 190 / 500, Cost: 0.04612588802426994, Train Acc: 98.7, Test Acc: 98.1\n",
            "iteration number 200 / 500, Cost: 0.04570757814913215, Train Acc: 98.7, Test Acc: 98.1\n",
            "iteration number 210 / 500, Cost: 0.04531173643088463, Train Acc: 98.7, Test Acc: 98.1\n",
            "iteration number 220 / 500, Cost: 0.04493605686683995, Train Acc: 98.7, Test Acc: 98.1\n",
            "iteration number 230 / 500, Cost: 0.04457857335671667, Train Acc: 98.7, Test Acc: 98.1\n",
            "iteration number 240 / 500, Cost: 0.04423759734883413, Train Acc: 98.725, Test Acc: 98.1\n",
            "iteration number 250 / 500, Cost: 0.043911668842512346, Train Acc: 98.725, Test Acc: 98.1\n",
            "iteration number 260 / 500, Cost: 0.04359951749800231, Train Acc: 98.725, Test Acc: 98.1\n",
            "iteration number 270 / 500, Cost: 0.04330003148717779, Train Acc: 98.725, Test Acc: 98.1\n",
            "iteration number 280 / 500, Cost: 0.04301223233681076, Train Acc: 98.725, Test Acc: 98.1\n",
            "iteration number 290 / 500, Cost: 0.04273525445688951, Train Acc: 98.725, Test Acc: 98.1\n",
            "iteration number 300 / 500, Cost: 0.042468328364765724, Train Acc: 98.725, Test Acc: 98.1\n",
            "iteration number 310 / 500, Cost: 0.04221076684887483, Train Acc: 98.725, Test Acc: 98.2\n",
            "iteration number 320 / 500, Cost: 0.041961953488290474, Train Acc: 98.725, Test Acc: 98.2\n",
            "iteration number 330 / 500, Cost: 0.04172133307353112, Train Acc: 98.75, Test Acc: 98.2\n",
            "iteration number 340 / 500, Cost: 0.04148840357171001, Train Acc: 98.75, Test Acc: 98.2\n",
            "iteration number 350 / 500, Cost: 0.04126270935367762, Train Acc: 98.75, Test Acc: 98.2\n",
            "iteration number 360 / 500, Cost: 0.041043835458208035, Train Acc: 98.75, Test Acc: 98.2\n",
            "iteration number 370 / 500, Cost: 0.040831402712835516, Train Acc: 98.75, Test Acc: 98.2\n",
            "iteration number 380 / 500, Cost: 0.04062506356578921, Train Acc: 98.75, Test Acc: 98.2\n",
            "iteration number 390 / 500, Cost: 0.04042449851091293, Train Acc: 98.75, Test Acc: 98.2\n",
            "iteration number 400 / 500, Cost: 0.04022941300920925, Train Acc: 98.75, Test Acc: 98.2\n",
            "iteration number 410 / 500, Cost: 0.04003953482799966, Train Acc: 98.75, Test Acc: 98.2\n",
            "iteration number 420 / 500, Cost: 0.03985461173261545, Train Acc: 98.75, Test Acc: 98.2\n",
            "iteration number 430 / 500, Cost: 0.03967440947676835, Train Acc: 98.75, Test Acc: 98.2\n",
            "iteration number 440 / 500, Cost: 0.03949871004686216, Train Acc: 98.75, Test Acc: 98.2\n",
            "iteration number 450 / 500, Cost: 0.039327310122932814, Train Acc: 98.75, Test Acc: 98.2\n",
            "iteration number 460 / 500, Cost: 0.039160019724986485, Train Acc: 98.75, Test Acc: 98.2\n",
            "iteration number 470 / 500, Cost: 0.03899666101850592, Train Acc: 98.75, Test Acc: 98.3\n",
            "iteration number 480 / 500, Cost: 0.038837067257025834, Train Acc: 98.75, Test Acc: 98.3\n",
            "iteration number 490 / 500, Cost: 0.03868108184310106, Train Acc: 98.75, Test Acc: 98.3\n",
            "Training completed!\n",
            "The model for classifying digit 7 has the following properties:\n",
            "[[886   2]\n",
            " [ 15  97]]\n",
            "Train accuracy: 98.75 %, Test accuracy: 98.3 %\n"
          ]
        },
        {
          "output_type": "display_data",
          "data": {
            "text/plain": [
              "<Figure size 640x480 with 1 Axes>"
            ],
            "image/png": "[encoded data removed]"
          },
          "metadata": {}
        },
        {
          "output_type": "stream",
          "name": "stdout",
          "text": [
            "iteration number 0 / 500, Cost: 0.6931471805599465, Train Acc: 89.525, Test Acc: 91.9\n",
            "iteration number 10 / 500, Cost: 0.2793396995694368, Train Acc: 93.10000000000001, Test Acc: 92.9\n",
            "iteration number 20 / 500, Cost: 0.18713234666509873, Train Acc: 94.175, Test Acc: 95.0\n",
            "iteration number 30 / 500, Cost: 0.16884563513362622, Train Acc: 94.35, Test Acc: 95.5\n",
            "iteration number 40 / 500, Cost: 0.163136605182705, Train Acc: 94.45, Test Acc: 95.6\n",
            "iteration number 50 / 500, Cost: 0.15919815871833748, Train Acc: 94.55, Test Acc: 95.7\n",
            "iteration number 60 / 500, Cost: 0.15612264178614557, Train Acc: 94.675, Test Acc: 95.89999999999999\n",
            "iteration number 70 / 500, Cost: 0.15359933123049535, Train Acc: 94.75, Test Acc: 95.7\n",
            "iteration number 80 / 500, Cost: 0.1514586448349344, Train Acc: 94.825, Test Acc: 95.5\n",
            "iteration number 90 / 500, Cost: 0.1495987588512289, Train Acc: 94.975, Test Acc: 95.6\n",
            "iteration number 100 / 500, Cost: 0.14795405321684543, Train Acc: 95.19999999999999, Test Acc: 95.8\n",
            "iteration number 110 / 500, Cost: 0.14647981556348008, Train Acc: 95.175, Test Acc: 95.8\n",
            "iteration number 120 / 500, Cost: 0.14514418741878843, Train Acc: 95.19999999999999, Test Acc: 95.89999999999999\n",
            "iteration number 130 / 500, Cost: 0.14392362972841696, Train Acc: 95.25, Test Acc: 95.8\n",
            "iteration number 140 / 500, Cost: 0.14280022385603536, Train Acc: 95.275, Test Acc: 95.89999999999999\n",
            "iteration number 150 / 500, Cost: 0.1417599878830616, Train Acc: 95.275, Test Acc: 96.0\n",
            "iteration number 160 / 500, Cost: 0.14079178325424688, Train Acc: 95.3, Test Acc: 96.0\n",
            "iteration number 170 / 500, Cost: 0.1398865797359279, Train Acc: 95.325, Test Acc: 95.89999999999999\n",
            "iteration number 180 / 500, Cost: 0.1390369461340388, Train Acc: 95.375, Test Acc: 95.89999999999999\n",
            "iteration number 190 / 500, Cost: 0.13823668800115577, Train Acc: 95.375, Test Acc: 95.89999999999999\n",
            "iteration number 200 / 500, Cost: 0.13748058386452305, Train Acc: 95.42500000000001, Test Acc: 95.89999999999999\n",
            "iteration number 210 / 500, Cost: 0.1367641892148156, Train Acc: 95.45, Test Acc: 95.89999999999999\n",
            "iteration number 220 / 500, Cost: 0.13608368818513286, Train Acc: 95.475, Test Acc: 95.8\n",
            "iteration number 230 / 500, Cost: 0.1354357794940102, Train Acc: 95.475, Test Acc: 95.7\n",
            "iteration number 240 / 500, Cost: 0.13481758746644623, Train Acc: 95.5, Test Acc: 95.8\n",
            "iteration number 250 / 500, Cost: 0.13422659171853774, Train Acc: 95.5, Test Acc: 95.8\n",
            "iteration number 260 / 500, Cost: 0.1336605709429329, Train Acc: 95.45, Test Acc: 95.8\n",
            "iteration number 270 / 500, Cost: 0.13311755749424922, Train Acc: 95.475, Test Acc: 95.89999999999999\n",
            "iteration number 280 / 500, Cost: 0.1325958003495237, Train Acc: 95.5, Test Acc: 95.89999999999999\n",
            "iteration number 290 / 500, Cost: 0.13209373463702348, Train Acc: 95.475, Test Acc: 95.89999999999999\n",
            "iteration number 300 / 500, Cost: 0.13160995636993003, Train Acc: 95.475, Test Acc: 95.89999999999999\n",
            "iteration number 310 / 500, Cost: 0.1311432013436446, Train Acc: 95.5, Test Acc: 95.89999999999999\n",
            "iteration number 320 / 500, Cost: 0.13069232739284062, Train Acc: 95.525, Test Acc: 95.8\n",
            "iteration number 330 / 500, Cost: 0.13025629938140024, Train Acc: 95.5, Test Acc: 95.8\n",
            "iteration number 340 / 500, Cost: 0.1298341764318458, Train Acc: 95.525, Test Acc: 95.7\n",
            "iteration number 350 / 500, Cost: 0.12942510100258695, Train Acc: 95.5, Test Acc: 95.7\n",
            "iteration number 360 / 500, Cost: 0.12902828949955417, Train Acc: 95.55, Test Acc: 95.8\n",
            "iteration number 370 / 500, Cost: 0.1286430241695385, Train Acc: 95.575, Test Acc: 95.8\n",
            "iteration number 380 / 500, Cost: 0.12826864607012015, Train Acc: 95.55, Test Acc: 95.8\n",
            "iteration number 390 / 500, Cost: 0.127904548948594, Train Acc: 95.575, Test Acc: 95.7\n",
            "iteration number 400 / 500, Cost: 0.12755017389213316, Train Acc: 95.575, Test Acc: 95.7\n",
            "iteration number 410 / 500, Cost: 0.12720500463530515, Train Acc: 95.575, Test Acc: 95.7\n",
            "iteration number 420 / 500, Cost: 0.12686856343029015, Train Acc: 95.6, Test Acc: 95.7\n",
            "iteration number 430 / 500, Cost: 0.12654040740073685, Train Acc: 95.625, Test Acc: 95.7\n",
            "iteration number 440 / 500, Cost: 0.12622012531290233, Train Acc: 95.675, Test Acc: 95.7\n",
            "iteration number 450 / 500, Cost: 0.12590733470813112, Train Acc: 95.675, Test Acc: 95.7\n",
            "iteration number 460 / 500, Cost: 0.1256016793493122, Train Acc: 95.7, Test Acc: 95.7\n",
            "iteration number 470 / 500, Cost: 0.12530282694105313, Train Acc: 95.7, Test Acc: 95.7\n",
            "iteration number 480 / 500, Cost: 0.12501046708921412, Train Acc: 95.72500000000001, Test Acc: 95.7\n",
            "iteration number 490 / 500, Cost: 0.12472430947038154, Train Acc: 95.775, Test Acc: 95.7\n",
            "Training completed!\n",
            "The model for classifying digit 8 has the following properties:\n",
            "[[897  22]\n",
            " [ 21  60]]\n",
            "Train accuracy: 95.775 %, Test accuracy: 95.7 %\n"
          ]
        },
        {
          "output_type": "display_data",
          "data": {
            "text/plain": [
              "<Figure size 640x480 with 1 Axes>"
            ],
            "image/png": "[encoded data removed]"
          },
          "metadata": {}
        },
        {
          "output_type": "stream",
          "name": "stdout",
          "text": [
            "iteration number 0 / 500, Cost: 0.6931471805599465, Train Acc: 90.275, Test Acc: 88.9\n",
            "iteration number 10 / 500, Cost: 0.20830247928332335, Train Acc: 93.325, Test Acc: 91.5\n",
            "iteration number 20 / 500, Cost: 0.14923426447844987, Train Acc: 95.5, Test Acc: 93.89999999999999\n",
            "iteration number 30 / 500, Cost: 0.1327114814982926, Train Acc: 95.85000000000001, Test Acc: 94.5\n",
            "iteration number 40 / 500, Cost: 0.1261510862220537, Train Acc: 95.875, Test Acc: 94.89999999999999\n",
            "iteration number 50 / 500, Cost: 0.12163176375766592, Train Acc: 96.175, Test Acc: 94.89999999999999\n",
            "iteration number 60 / 500, Cost: 0.11824802312844218, Train Acc: 96.35000000000001, Test Acc: 95.0\n",
            "iteration number 70 / 500, Cost: 0.11558653863976098, Train Acc: 96.39999999999999, Test Acc: 94.89999999999999\n",
            "iteration number 80 / 500, Cost: 0.11341599019119614, Train Acc: 96.42500000000001, Test Acc: 95.19999999999999\n",
            "iteration number 90 / 500, Cost: 0.11159625291150285, Train Acc: 96.42500000000001, Test Acc: 95.3\n",
            "iteration number 100 / 500, Cost: 0.11003720868433632, Train Acc: 96.55, Test Acc: 95.3\n",
            "iteration number 110 / 500, Cost: 0.10867809532566715, Train Acc: 96.65, Test Acc: 95.3\n",
            "iteration number 120 / 500, Cost: 0.10747633975328066, Train Acc: 96.6, Test Acc: 95.3\n",
            "iteration number 130 / 500, Cost: 0.10640114637128964, Train Acc: 96.575, Test Acc: 95.39999999999999\n",
            "iteration number 140 / 500, Cost: 0.10542963082026614, Train Acc: 96.6, Test Acc: 95.39999999999999\n",
            "iteration number 150 / 500, Cost: 0.10454439113698624, Train Acc: 96.65, Test Acc: 95.6\n",
            "iteration number 160 / 500, Cost: 0.10373192783705926, Train Acc: 96.7, Test Acc: 95.6\n",
            "iteration number 170 / 500, Cost: 0.10298158486224793, Train Acc: 96.7, Test Acc: 95.6\n",
            "iteration number 180 / 500, Cost: 0.10228482081605347, Train Acc: 96.7, Test Acc: 95.6\n",
            "iteration number 190 / 500, Cost: 0.10163469576020373, Train Acc: 96.72500000000001, Test Acc: 95.7\n",
            "iteration number 200 / 500, Cost: 0.10102550231848531, Train Acc: 96.825, Test Acc: 95.7\n",
            "iteration number 210 / 500, Cost: 0.10045249559838423, Train Acc: 96.89999999999999, Test Acc: 95.7\n",
            "iteration number 220 / 500, Cost: 0.09991169216732981, Train Acc: 96.89999999999999, Test Acc: 95.7\n",
            "iteration number 230 / 500, Cost: 0.09939971817588136, Train Acc: 96.975, Test Acc: 95.8\n",
            "iteration number 240 / 500, Cost: 0.09891369304447555, Train Acc: 96.95, Test Acc: 95.8\n",
            "iteration number 250 / 500, Cost: 0.09845113927639863, Train Acc: 96.95, Test Acc: 95.8\n",
            "iteration number 260 / 500, Cost: 0.09800991173110046, Train Acc: 96.925, Test Acc: 95.8\n",
            "iteration number 270 / 500, Cost: 0.09758814157779502, Train Acc: 96.975, Test Acc: 95.8\n",
            "iteration number 280 / 500, Cost: 0.09718419145360295, Train Acc: 96.975, Test Acc: 95.7\n",
            "iteration number 290 / 500, Cost: 0.09679661926626403, Train Acc: 96.975, Test Acc: 95.7\n",
            "iteration number 300 / 500, Cost: 0.09642414873340928, Train Acc: 97.0, Test Acc: 95.7\n",
            "iteration number 310 / 500, Cost: 0.09606564522054657, Train Acc: 97.02499999999999, Test Acc: 95.7\n",
            "iteration number 320 / 500, Cost: 0.09572009578305067, Train Acc: 97.05, Test Acc: 95.6\n",
            "iteration number 330 / 500, Cost: 0.09538659257068646, Train Acc: 97.05, Test Acc: 95.6\n",
            "iteration number 340 / 500, Cost: 0.09506431894204036, Train Acc: 97.02499999999999, Test Acc: 95.6\n",
            "iteration number 350 / 500, Cost: 0.09475253777843898, Train Acc: 97.05, Test Acc: 95.5\n",
            "iteration number 360 / 500, Cost: 0.09445058159500104, Train Acc: 97.05, Test Acc: 95.5\n",
            "iteration number 370 / 500, Cost: 0.09415784412929899, Train Acc: 97.075, Test Acc: 95.5\n",
            "iteration number 380 / 500, Cost: 0.09387377315210878, Train Acc: 97.075, Test Acc: 95.5\n",
            "iteration number 390 / 500, Cost: 0.09359786429456077, Train Acc: 97.075, Test Acc: 95.5\n",
            "iteration number 400 / 500, Cost: 0.09332965572508406, Train Acc: 97.075, Test Acc: 95.39999999999999\n",
            "iteration number 410 / 500, Cost: 0.0930687235403954, Train Acc: 97.1, Test Acc: 95.39999999999999\n",
            "iteration number 420 / 500, Cost: 0.09281467775930567, Train Acc: 97.15, Test Acc: 95.39999999999999\n",
            "iteration number 430 / 500, Cost: 0.09256715882772608, Train Acc: 97.175, Test Acc: 95.39999999999999\n",
            "iteration number 440 / 500, Cost: 0.09232583455902557, Train Acc: 97.175, Test Acc: 95.39999999999999\n",
            "iteration number 450 / 500, Cost: 0.09209039744664534, Train Acc: 97.175, Test Acc: 95.39999999999999\n",
            "iteration number 460 / 500, Cost: 0.09186056229624488, Train Acc: 97.2, Test Acc: 95.39999999999999\n",
            "iteration number 470 / 500, Cost: 0.09163606413312728, Train Acc: 97.275, Test Acc: 95.39999999999999\n",
            "iteration number 480 / 500, Cost: 0.09141665634764753, Train Acc: 97.275, Test Acc: 95.39999999999999\n",
            "iteration number 490 / 500, Cost: 0.0912021090470469, Train Acc: 97.275, Test Acc: 95.39999999999999\n",
            "Training completed!\n",
            "The model for classifying digit 9 has the following properties:\n",
            "[[863  26]\n",
            " [ 19  92]]\n",
            "Train accuracy: 97.275 %, Test accuracy: 95.5 %\n"
          ]
        },
        {
          "output_type": "display_data",
          "data": {
            "text/plain": [
              "<Figure size 640x480 with 1 Axes>"
            ],
            "image/png": "[encoded data removed]"
          },
          "metadata": {}
        }
      ]
    },
    {
      "cell_type": "code",
      "source": [
        "# Calculatin the average accuracy of all the models\n",
        "\n",
        "accuracy_list=[]\n",
        "for i in range(tot_cls):\n",
        "    accuracy_list.append(models['digit '+str(i)]['test_accuracy'])\n",
        "ove_vs_all_accuracy=np.mean(accuracy_list)\n",
        "print('The accuracy of the Onve-Vs-All model is:', ove_vs_all_accuracy * 100)\n"
      ],
      "metadata": {
        "colab": {
          "base_uri": "https://localhost:8080/"
        },
        "id": "lejZLooZlGQn",
        "outputId": "f6567ebd-7c1d-4e3c-f937-757d4c1a7c95"
      },
      "execution_count": null,
      "outputs": [
        {
          "output_type": "stream",
          "name": "stdout",
          "text": [
            "The accuracy of the Onve-Vs-All model is: 97.45000000000002\n"
          ]
        }
      ]
    },
    {
      "cell_type": "code",
      "source": [
        "# Calculatin the average accuracy of all the models\n",
        "\n",
        "accuracy_list=[]\n",
        "for i in range(tot_cls):\n",
        "    accuracy_list.append(models['digit '+str(i)]['train_accuracy'])\n",
        "ove_vs_all_accuracy=np.mean(accuracy_list)\n",
        "print('The accuracy of the Onve-Vs-All model is:', ove_vs_all_accuracy * 100)"
      ],
      "metadata": {
        "colab": {
          "base_uri": "https://localhost:8080/"
        },
        "id": "EzTN8mhKlWpu",
        "outputId": "05c3dad2-b68c-47df-d33f-610a7c6a1656"
      },
      "execution_count": null,
      "outputs": [
        {
          "output_type": "stream",
          "name": "stdout",
          "text": [
            "The accuracy of the Onve-Vs-All model is: 98.23\n"
          ]
        }
      ]
    },
    {
      "cell_type": "code",
      "source": [],
      "metadata": {
        "id": "6i1Rqc-ala-M"
      },
      "execution_count": null,
      "outputs": []
    },
    {
      "cell_type": "code",
      "source": [
        "Yhat_fin = multiPredict(X_test_n, models)\n",
        "test = accuracy_score(Y_test, Yhat_fin)\n",
        "\n",
        "Yhat_fin_train = multiPredict(X_train_n, models)\n",
        "train = accuracy_score(Y_train, Yhat_fin_train)\n",
        "\n",
        "conf_mat_train = confusion_matrix(Y_train, Yhat_fin_train, normalize = None)\n",
        "conf_mat = confusion_matrix(Y_test, Yhat_fin, normalize = None)\n",
        "\n",
        "print(f\"Train accuracy: {train * 100}, Test accuracy: {test * 100}\")"
      ],
      "metadata": {
        "colab": {
          "base_uri": "https://localhost:8080/"
        },
        "id": "xTxmbjOeliH8",
        "outputId": "def4b11f-c2ab-4cd1-efea-181e53f8c50f"
      },
      "execution_count": null,
      "outputs": [
        {
          "output_type": "stream",
          "name": "stdout",
          "text": [
            "Train accuracy: 93.625, Test accuracy: 90.0\n"
          ]
        }
      ]
    },
    {
      "cell_type": "code",
      "source": [
        "\n",
        "print(conf_mat)\n",
        "\n",
        "print(conf_mat_train)"
      ],
      "metadata": {
        "colab": {
          "base_uri": "https://localhost:8080/"
        },
        "id": "wDTDA_11l7A1",
        "outputId": "39302655-2deb-47c5-b3a9-bb6605d142e5"
      },
      "execution_count": null,
      "outputs": [
        {
          "output_type": "stream",
          "name": "stdout",
          "text": [
            "[[110   0   0   0   0   0   0   0   0   1]\n",
            " [  0 101   1   0   0   2   0   0   1   0]\n",
            " [  0   0  89   2   3   2   1   2   5   1]\n",
            " [  0   0   3  76   0   1   1   1   2   1]\n",
            " [  1   0   3   0  80   0   0   0   2   8]\n",
            " [  3   1   1   4   1  82   0   0   5   1]\n",
            " [  2   0   1   0   0   2  92   0   1   0]\n",
            " [  1   4   2   0   1   0   0  99   0   5]\n",
            " [  1   2   0   1   1   2   2   0  71   1]\n",
            " [  0   0   1   2   2   1   0   4   1 100]]\n",
            "[[386   0   0   0   1   0   1   0   1   0]\n",
            " [  0 388   1   0   0   1   0   1   4   0]\n",
            " [  3   3 352   3   7   0   3   5  15   4]\n",
            " [  0   2   9 379   0  14   0   4   4   3]\n",
            " [  1   1   1   0 385   0   5   0   3  10]\n",
            " [  2   0   3  16   3 358   6   0   7   7]\n",
            " [  0   2   0   0   0   4 391   1   3   1]\n",
            " [  1   2   1   0   4   0   0 367   2  11]\n",
            " [  1   6   6   6   2   7   3   1 384   3]\n",
            " [  4   1   2   4   6   2   0  12   3 355]]\n"
          ]
        }
      ]
    },
    {
      "cell_type": "code",
      "source": [],
      "metadata": {
        "id": "WR8wBRkjmSbp"
      },
      "execution_count": null,
      "outputs": []
    }
  ]
}